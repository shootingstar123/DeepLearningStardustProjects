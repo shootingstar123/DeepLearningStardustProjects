{
 "cells": [
  {
   "cell_type": "code",
   "execution_count": 2,
   "metadata": {},
   "outputs": [],
   "source": [
    "import tensorflow as tf\n",
    "import pandas as pd\n",
    "import numpy as np\n",
    "import matplotlib.pyplot as plt\n",
    "from tensorflow.keras import layers\n",
    "import time\n",
    "# %matplotlib inline"
   ]
  },
  {
   "cell_type": "code",
   "execution_count": 3,
   "metadata": {},
   "outputs": [],
   "source": [
    "# import argparse\n",
    "# parser = argparse.ArgumentParser(description='manual to this script')\n",
    "# parser.add_argument('--epoch_size',type=int,default=10)\n",
    "# parser.add_argument('--batch_size',type=int,default=360)\n",
    "# args = parser.parse_args()\n",
    "# epoch_size = args.epoch_size\n",
    "# batch_size = args.batch_size\n",
    "# print(\"epoch=%s,batch_size=%s\"%(epoch_size,batch_size))"
   ]
  },
  {
   "cell_type": "code",
   "execution_count": 58,
   "metadata": {},
   "outputs": [
    {
     "name": "stdout",
     "output_type": "stream",
     "text": [
      "epoch=10,batch_size=360\n"
     ]
    }
   ],
   "source": [
    "epoch_size = 10\n",
    "batch_size = 360\n",
    "print(\"epoch=%s,batch_size=%s\"%(epoch_size,batch_size))"
   ]
  },
  {
   "cell_type": "code",
   "execution_count": 5,
   "metadata": {},
   "outputs": [],
   "source": [
    "months=13\n",
    "DIR_ROOT = \"/Users/stardust/StardustJavaProjects/JavaTest\";"
   ]
  },
  {
   "cell_type": "code",
   "execution_count": 6,
   "metadata": {},
   "outputs": [],
   "source": [
    "data_bed = []\n",
    "for i in range(1,months+1):\n",
    "    data_ = pd.read_csv(DIR_ROOT + \"/{}bed_level.txt.csv\".format(i),header=None)\n",
    "    data_.columns = ['x','y','bed_level']\n",
    "    data_bed.append(data_)"
   ]
  },
  {
   "cell_type": "code",
   "execution_count": 7,
   "metadata": {},
   "outputs": [
    {
     "data": {
      "text/plain": [
       "13"
      ]
     },
     "execution_count": 7,
     "metadata": {},
     "output_type": "execute_result"
    }
   ],
   "source": [
    "len(data_bed)"
   ]
  },
  {
   "cell_type": "code",
   "execution_count": 8,
   "metadata": {},
   "outputs": [
    {
     "data": {
      "text/html": [
       "<div>\n",
       "<style scoped>\n",
       "    .dataframe tbody tr th:only-of-type {\n",
       "        vertical-align: middle;\n",
       "    }\n",
       "\n",
       "    .dataframe tbody tr th {\n",
       "        vertical-align: top;\n",
       "    }\n",
       "\n",
       "    .dataframe thead th {\n",
       "        text-align: right;\n",
       "    }\n",
       "</style>\n",
       "<table border=\"1\" class=\"dataframe\">\n",
       "  <thead>\n",
       "    <tr style=\"text-align: right;\">\n",
       "      <th></th>\n",
       "      <th>x</th>\n",
       "      <th>y</th>\n",
       "      <th>bed_level</th>\n",
       "    </tr>\n",
       "  </thead>\n",
       "  <tbody>\n",
       "    <tr>\n",
       "      <th>0</th>\n",
       "      <td>518693.195313</td>\n",
       "      <td>3.368709e+06</td>\n",
       "      <td>20.538614</td>\n",
       "    </tr>\n",
       "    <tr>\n",
       "      <th>1</th>\n",
       "      <td>518732.648438</td>\n",
       "      <td>3.368797e+06</td>\n",
       "      <td>21.723602</td>\n",
       "    </tr>\n",
       "    <tr>\n",
       "      <th>2</th>\n",
       "      <td>518775.289063</td>\n",
       "      <td>3.368875e+06</td>\n",
       "      <td>20.020536</td>\n",
       "    </tr>\n",
       "    <tr>\n",
       "      <th>3</th>\n",
       "      <td>518825.367188</td>\n",
       "      <td>3.368948e+06</td>\n",
       "      <td>22.505301</td>\n",
       "    </tr>\n",
       "    <tr>\n",
       "      <th>4</th>\n",
       "      <td>518882.789063</td>\n",
       "      <td>3.369016e+06</td>\n",
       "      <td>24.735243</td>\n",
       "    </tr>\n",
       "    <tr>\n",
       "      <th>...</th>\n",
       "      <td>...</td>\n",
       "      <td>...</td>\n",
       "      <td>...</td>\n",
       "    </tr>\n",
       "    <tr>\n",
       "      <th>35995</th>\n",
       "      <td>527137.609375</td>\n",
       "      <td>3.382640e+06</td>\n",
       "      <td>24.382263</td>\n",
       "    </tr>\n",
       "    <tr>\n",
       "      <th>35996</th>\n",
       "      <td>527168.234375</td>\n",
       "      <td>3.382688e+06</td>\n",
       "      <td>24.036366</td>\n",
       "    </tr>\n",
       "    <tr>\n",
       "      <th>35997</th>\n",
       "      <td>527196.937500</td>\n",
       "      <td>3.382736e+06</td>\n",
       "      <td>24.412762</td>\n",
       "    </tr>\n",
       "    <tr>\n",
       "      <th>35998</th>\n",
       "      <td>527224.312500</td>\n",
       "      <td>3.382784e+06</td>\n",
       "      <td>24.797714</td>\n",
       "    </tr>\n",
       "    <tr>\n",
       "      <th>35999</th>\n",
       "      <td>527250.968750</td>\n",
       "      <td>3.382832e+06</td>\n",
       "      <td>24.585445</td>\n",
       "    </tr>\n",
       "  </tbody>\n",
       "</table>\n",
       "<p>36000 rows × 3 columns</p>\n",
       "</div>"
      ],
      "text/plain": [
       "                   x             y  bed_level\n",
       "0      518693.195313  3.368709e+06  20.538614\n",
       "1      518732.648438  3.368797e+06  21.723602\n",
       "2      518775.289063  3.368875e+06  20.020536\n",
       "3      518825.367188  3.368948e+06  22.505301\n",
       "4      518882.789063  3.369016e+06  24.735243\n",
       "...              ...           ...        ...\n",
       "35995  527137.609375  3.382640e+06  24.382263\n",
       "35996  527168.234375  3.382688e+06  24.036366\n",
       "35997  527196.937500  3.382736e+06  24.412762\n",
       "35998  527224.312500  3.382784e+06  24.797714\n",
       "35999  527250.968750  3.382832e+06  24.585445\n",
       "\n",
       "[36000 rows x 3 columns]"
      ]
     },
     "execution_count": 8,
     "metadata": {},
     "output_type": "execute_result"
    }
   ],
   "source": [
    "data_bed[12]"
   ]
  },
  {
   "cell_type": "code",
   "execution_count": 9,
   "metadata": {},
   "outputs": [
    {
     "data": {
      "text/plain": [
       "[                   x             y  bed_level\n",
       " 30100  522042.382813  3.373878e+06   1.290496\n",
       " 30101  522061.484375  3.373906e+06   1.910207\n",
       " 30102  522081.414063  3.373936e+06   2.595494,\n",
       "                    x             y  bed_level\n",
       " 30103  522102.250000  3.373968e+06   3.270399\n",
       " 30104  522124.039063  3.374001e+06   3.694517\n",
       " 30105  522146.820313  3.374036e+06   3.781859]"
      ]
     },
     "execution_count": 9,
     "metadata": {},
     "output_type": "execute_result"
    }
   ],
   "source": [
    "data_ = []\n",
    "data_.append(data_bed[4].iloc[30100:30103])\n",
    "data_.append(data_bed[4].iloc[30103:30106])\n",
    "data_"
   ]
  },
  {
   "cell_type": "code",
   "execution_count": 10,
   "metadata": {},
   "outputs": [
    {
     "data": {
      "text/plain": [
       "<function list.count(value, /)>"
      ]
     },
     "execution_count": 10,
     "metadata": {},
     "output_type": "execute_result"
    }
   ],
   "source": [
    "data_bed.count"
   ]
  },
  {
   "cell_type": "code",
   "execution_count": 11,
   "metadata": {},
   "outputs": [
    {
     "data": {
      "text/html": [
       "<div>\n",
       "<style scoped>\n",
       "    .dataframe tbody tr th:only-of-type {\n",
       "        vertical-align: middle;\n",
       "    }\n",
       "\n",
       "    .dataframe tbody tr th {\n",
       "        vertical-align: top;\n",
       "    }\n",
       "\n",
       "    .dataframe thead th {\n",
       "        text-align: right;\n",
       "    }\n",
       "</style>\n",
       "<table border=\"1\" class=\"dataframe\">\n",
       "  <thead>\n",
       "    <tr style=\"text-align: right;\">\n",
       "      <th></th>\n",
       "      <th>x</th>\n",
       "      <th>y</th>\n",
       "      <th>sand_z</th>\n",
       "      <th>concentration</th>\n",
       "    </tr>\n",
       "  </thead>\n",
       "  <tbody>\n",
       "    <tr>\n",
       "      <th>30100</th>\n",
       "      <td>522042.382813</td>\n",
       "      <td>3.373878e+06</td>\n",
       "      <td>6.676435</td>\n",
       "      <td>0.009027</td>\n",
       "    </tr>\n",
       "    <tr>\n",
       "      <th>30101</th>\n",
       "      <td>522061.484375</td>\n",
       "      <td>3.373906e+06</td>\n",
       "      <td>6.985826</td>\n",
       "      <td>0.011448</td>\n",
       "    </tr>\n",
       "    <tr>\n",
       "      <th>30102</th>\n",
       "      <td>522081.414063</td>\n",
       "      <td>3.373936e+06</td>\n",
       "      <td>7.327604</td>\n",
       "      <td>0.015275</td>\n",
       "    </tr>\n",
       "    <tr>\n",
       "      <th>30103</th>\n",
       "      <td>522102.250000</td>\n",
       "      <td>3.373968e+06</td>\n",
       "      <td>7.663913</td>\n",
       "      <td>0.021059</td>\n",
       "    </tr>\n",
       "    <tr>\n",
       "      <th>30104</th>\n",
       "      <td>522124.039063</td>\n",
       "      <td>3.374001e+06</td>\n",
       "      <td>7.874988</td>\n",
       "      <td>0.025316</td>\n",
       "    </tr>\n",
       "    <tr>\n",
       "      <th>...</th>\n",
       "      <td>...</td>\n",
       "      <td>...</td>\n",
       "      <td>...</td>\n",
       "      <td>...</td>\n",
       "    </tr>\n",
       "    <tr>\n",
       "      <th>30195</th>\n",
       "      <td>526429.359375</td>\n",
       "      <td>3.380550e+06</td>\n",
       "      <td>8.695766</td>\n",
       "      <td>0.001340</td>\n",
       "    </tr>\n",
       "    <tr>\n",
       "      <th>30196</th>\n",
       "      <td>526444.468750</td>\n",
       "      <td>3.380588e+06</td>\n",
       "      <td>8.839143</td>\n",
       "      <td>0.001267</td>\n",
       "    </tr>\n",
       "    <tr>\n",
       "      <th>30197</th>\n",
       "      <td>526459.171875</td>\n",
       "      <td>3.380626e+06</td>\n",
       "      <td>9.053247</td>\n",
       "      <td>0.001326</td>\n",
       "    </tr>\n",
       "    <tr>\n",
       "      <th>30198</th>\n",
       "      <td>526473.546875</td>\n",
       "      <td>3.380663e+06</td>\n",
       "      <td>9.320088</td>\n",
       "      <td>0.001703</td>\n",
       "    </tr>\n",
       "    <tr>\n",
       "      <th>30199</th>\n",
       "      <td>526487.656250</td>\n",
       "      <td>3.380699e+06</td>\n",
       "      <td>9.685407</td>\n",
       "      <td>0.003427</td>\n",
       "    </tr>\n",
       "  </tbody>\n",
       "</table>\n",
       "<p>100 rows × 4 columns</p>\n",
       "</div>"
      ],
      "text/plain": [
       "                   x             y    sand_z  concentration\n",
       "30100  522042.382813  3.373878e+06  6.676435       0.009027\n",
       "30101  522061.484375  3.373906e+06  6.985826       0.011448\n",
       "30102  522081.414063  3.373936e+06  7.327604       0.015275\n",
       "30103  522102.250000  3.373968e+06  7.663913       0.021059\n",
       "30104  522124.039063  3.374001e+06  7.874988       0.025316\n",
       "...              ...           ...       ...            ...\n",
       "30195  526429.359375  3.380550e+06  8.695766       0.001340\n",
       "30196  526444.468750  3.380588e+06  8.839143       0.001267\n",
       "30197  526459.171875  3.380626e+06  9.053247       0.001326\n",
       "30198  526473.546875  3.380663e+06  9.320088       0.001703\n",
       "30199  526487.656250  3.380699e+06  9.685407       0.003427\n",
       "\n",
       "[100 rows x 4 columns]"
      ]
     },
     "execution_count": 11,
     "metadata": {},
     "output_type": "execute_result"
    }
   ],
   "source": [
    "data_sedmiment = []\n",
    "for i in range(1,months+1):\n",
    "    data_ = pd.read_csv(DIR_ROOT + \"/{}sediment_concentration.xyz.csv\".format(i),header=None)\n",
    "    data_.columns = ['x','y','sand_z','concentration']\n",
    "    data_sedmiment.append(data_)\n",
    "data_sedmiment[4].iloc[30100:30200,:]"
   ]
  },
  {
   "cell_type": "code",
   "execution_count": 12,
   "metadata": {},
   "outputs": [
    {
     "data": {
      "text/plain": [
       "<bound method DataFrame.count of                    x             y     sand_z  concentration\n",
       "0      518693.195313  3.368709e+06  20.538614            0.0\n",
       "1      518732.648438  3.368797e+06  21.723602            0.0\n",
       "2      518775.289063  3.368875e+06  20.020536            0.0\n",
       "3      518825.367188  3.368948e+06  22.505301            0.0\n",
       "4      518882.789063  3.369016e+06  24.735243            0.0\n",
       "...              ...           ...        ...            ...\n",
       "35995  527137.609375  3.382640e+06  24.382263            0.0\n",
       "35996  527168.234375  3.382688e+06  24.036366            0.0\n",
       "35997  527196.937500  3.382736e+06  24.412762            0.0\n",
       "35998  527224.312500  3.382784e+06  24.797714            0.0\n",
       "35999  527250.968750  3.382832e+06  24.585445            0.0\n",
       "\n",
       "[36000 rows x 4 columns]>"
      ]
     },
     "execution_count": 12,
     "metadata": {},
     "output_type": "execute_result"
    }
   ],
   "source": [
    "data_sedmiment[4].count"
   ]
  },
  {
   "cell_type": "code",
   "execution_count": 13,
   "metadata": {},
   "outputs": [
    {
     "data": {
      "text/html": [
       "<div>\n",
       "<style scoped>\n",
       "    .dataframe tbody tr th:only-of-type {\n",
       "        vertical-align: middle;\n",
       "    }\n",
       "\n",
       "    .dataframe tbody tr th {\n",
       "        vertical-align: top;\n",
       "    }\n",
       "\n",
       "    .dataframe thead th {\n",
       "        text-align: right;\n",
       "    }\n",
       "</style>\n",
       "<table border=\"1\" class=\"dataframe\">\n",
       "  <thead>\n",
       "    <tr style=\"text-align: right;\">\n",
       "      <th></th>\n",
       "      <th>x</th>\n",
       "      <th>y</th>\n",
       "      <th>x_velocity</th>\n",
       "      <th>y_velocity</th>\n",
       "      <th>xy_velocity</th>\n",
       "    </tr>\n",
       "  </thead>\n",
       "  <tbody>\n",
       "    <tr>\n",
       "      <th>30100</th>\n",
       "      <td>522042.382813</td>\n",
       "      <td>3.373878e+06</td>\n",
       "      <td>0.397100</td>\n",
       "      <td>0.496184</td>\n",
       "      <td>0.635521</td>\n",
       "    </tr>\n",
       "    <tr>\n",
       "      <th>30101</th>\n",
       "      <td>522061.484375</td>\n",
       "      <td>3.373906e+06</td>\n",
       "      <td>0.404101</td>\n",
       "      <td>0.503862</td>\n",
       "      <td>0.645890</td>\n",
       "    </tr>\n",
       "    <tr>\n",
       "      <th>30102</th>\n",
       "      <td>522081.414063</td>\n",
       "      <td>3.373936e+06</td>\n",
       "      <td>0.414820</td>\n",
       "      <td>0.513693</td>\n",
       "      <td>0.660269</td>\n",
       "    </tr>\n",
       "    <tr>\n",
       "      <th>30103</th>\n",
       "      <td>522102.250000</td>\n",
       "      <td>3.373968e+06</td>\n",
       "      <td>0.426268</td>\n",
       "      <td>0.519740</td>\n",
       "      <td>0.672186</td>\n",
       "    </tr>\n",
       "    <tr>\n",
       "      <th>30104</th>\n",
       "      <td>522124.039063</td>\n",
       "      <td>3.374001e+06</td>\n",
       "      <td>0.430343</td>\n",
       "      <td>0.520641</td>\n",
       "      <td>0.675471</td>\n",
       "    </tr>\n",
       "    <tr>\n",
       "      <th>...</th>\n",
       "      <td>...</td>\n",
       "      <td>...</td>\n",
       "      <td>...</td>\n",
       "      <td>...</td>\n",
       "      <td>...</td>\n",
       "    </tr>\n",
       "    <tr>\n",
       "      <th>30195</th>\n",
       "      <td>526429.359375</td>\n",
       "      <td>3.380550e+06</td>\n",
       "      <td>0.310145</td>\n",
       "      <td>0.348087</td>\n",
       "      <td>0.466213</td>\n",
       "    </tr>\n",
       "    <tr>\n",
       "      <th>30196</th>\n",
       "      <td>526444.468750</td>\n",
       "      <td>3.380588e+06</td>\n",
       "      <td>0.292949</td>\n",
       "      <td>0.353607</td>\n",
       "      <td>0.459192</td>\n",
       "    </tr>\n",
       "    <tr>\n",
       "      <th>30197</th>\n",
       "      <td>526459.171875</td>\n",
       "      <td>3.380626e+06</td>\n",
       "      <td>0.276159</td>\n",
       "      <td>0.366597</td>\n",
       "      <td>0.458974</td>\n",
       "    </tr>\n",
       "    <tr>\n",
       "      <th>30198</th>\n",
       "      <td>526473.546875</td>\n",
       "      <td>3.380663e+06</td>\n",
       "      <td>0.267360</td>\n",
       "      <td>0.382961</td>\n",
       "      <td>0.467055</td>\n",
       "    </tr>\n",
       "    <tr>\n",
       "      <th>30199</th>\n",
       "      <td>526487.656250</td>\n",
       "      <td>3.380699e+06</td>\n",
       "      <td>0.263471</td>\n",
       "      <td>0.397892</td>\n",
       "      <td>0.477216</td>\n",
       "    </tr>\n",
       "  </tbody>\n",
       "</table>\n",
       "<p>100 rows × 5 columns</p>\n",
       "</div>"
      ],
      "text/plain": [
       "                   x             y  x_velocity  y_velocity  xy_velocity\n",
       "30100  522042.382813  3.373878e+06    0.397100    0.496184     0.635521\n",
       "30101  522061.484375  3.373906e+06    0.404101    0.503862     0.645890\n",
       "30102  522081.414063  3.373936e+06    0.414820    0.513693     0.660269\n",
       "30103  522102.250000  3.373968e+06    0.426268    0.519740     0.672186\n",
       "30104  522124.039063  3.374001e+06    0.430343    0.520641     0.675471\n",
       "...              ...           ...         ...         ...          ...\n",
       "30195  526429.359375  3.380550e+06    0.310145    0.348087     0.466213\n",
       "30196  526444.468750  3.380588e+06    0.292949    0.353607     0.459192\n",
       "30197  526459.171875  3.380626e+06    0.276159    0.366597     0.458974\n",
       "30198  526473.546875  3.380663e+06    0.267360    0.382961     0.467055\n",
       "30199  526487.656250  3.380699e+06    0.263471    0.397892     0.477216\n",
       "\n",
       "[100 rows x 5 columns]"
      ]
     },
     "execution_count": 13,
     "metadata": {},
     "output_type": "execute_result"
    }
   ],
   "source": [
    "data_velocity = []\n",
    "for i in range(1,months+1):\n",
    "    data_ = pd.read_csv(DIR_ROOT + \"/{}velocity.xyz.csv\".format(i),header=None)\n",
    "    data_.columns = ['x','y','x_velocity','y_velocity','xy_velocity']\n",
    "    data_velocity.append(data_)\n",
    "data_velocity[4].iloc[30100:30200,:]"
   ]
  },
  {
   "cell_type": "code",
   "execution_count": 14,
   "metadata": {},
   "outputs": [
    {
     "data": {
      "text/html": [
       "<div>\n",
       "<style scoped>\n",
       "    .dataframe tbody tr th:only-of-type {\n",
       "        vertical-align: middle;\n",
       "    }\n",
       "\n",
       "    .dataframe tbody tr th {\n",
       "        vertical-align: top;\n",
       "    }\n",
       "\n",
       "    .dataframe thead th {\n",
       "        text-align: right;\n",
       "    }\n",
       "</style>\n",
       "<table border=\"1\" class=\"dataframe\">\n",
       "  <thead>\n",
       "    <tr style=\"text-align: right;\">\n",
       "      <th></th>\n",
       "      <th>x</th>\n",
       "      <th>y</th>\n",
       "      <th>water_depth</th>\n",
       "    </tr>\n",
       "  </thead>\n",
       "  <tbody>\n",
       "    <tr>\n",
       "      <th>30100</th>\n",
       "      <td>522042.382813</td>\n",
       "      <td>3.373878e+06</td>\n",
       "      <td>10.771878</td>\n",
       "    </tr>\n",
       "    <tr>\n",
       "      <th>30101</th>\n",
       "      <td>522061.484375</td>\n",
       "      <td>3.373906e+06</td>\n",
       "      <td>10.151239</td>\n",
       "    </tr>\n",
       "    <tr>\n",
       "      <th>30102</th>\n",
       "      <td>522081.414063</td>\n",
       "      <td>3.373936e+06</td>\n",
       "      <td>9.464220</td>\n",
       "    </tr>\n",
       "    <tr>\n",
       "      <th>30103</th>\n",
       "      <td>522102.250000</td>\n",
       "      <td>3.373968e+06</td>\n",
       "      <td>8.787028</td>\n",
       "    </tr>\n",
       "    <tr>\n",
       "      <th>30104</th>\n",
       "      <td>522124.039063</td>\n",
       "      <td>3.374001e+06</td>\n",
       "      <td>8.360943</td>\n",
       "    </tr>\n",
       "    <tr>\n",
       "      <th>...</th>\n",
       "      <td>...</td>\n",
       "      <td>...</td>\n",
       "      <td>...</td>\n",
       "    </tr>\n",
       "    <tr>\n",
       "      <th>30195</th>\n",
       "      <td>526429.359375</td>\n",
       "      <td>3.380550e+06</td>\n",
       "      <td>6.401565</td>\n",
       "    </tr>\n",
       "    <tr>\n",
       "      <th>30196</th>\n",
       "      <td>526444.468750</td>\n",
       "      <td>3.380588e+06</td>\n",
       "      <td>6.114544</td>\n",
       "    </tr>\n",
       "    <tr>\n",
       "      <th>30197</th>\n",
       "      <td>526459.171875</td>\n",
       "      <td>3.380626e+06</td>\n",
       "      <td>5.685476</td>\n",
       "    </tr>\n",
       "    <tr>\n",
       "      <th>30198</th>\n",
       "      <td>526473.546875</td>\n",
       "      <td>3.380663e+06</td>\n",
       "      <td>5.149618</td>\n",
       "    </tr>\n",
       "    <tr>\n",
       "      <th>30199</th>\n",
       "      <td>526487.656250</td>\n",
       "      <td>3.380699e+06</td>\n",
       "      <td>4.415122</td>\n",
       "    </tr>\n",
       "  </tbody>\n",
       "</table>\n",
       "<p>100 rows × 3 columns</p>\n",
       "</div>"
      ],
      "text/plain": [
       "                   x             y  water_depth\n",
       "30100  522042.382813  3.373878e+06    10.771878\n",
       "30101  522061.484375  3.373906e+06    10.151239\n",
       "30102  522081.414063  3.373936e+06     9.464220\n",
       "30103  522102.250000  3.373968e+06     8.787028\n",
       "30104  522124.039063  3.374001e+06     8.360943\n",
       "...              ...           ...          ...\n",
       "30195  526429.359375  3.380550e+06     6.401565\n",
       "30196  526444.468750  3.380588e+06     6.114544\n",
       "30197  526459.171875  3.380626e+06     5.685476\n",
       "30198  526473.546875  3.380663e+06     5.149618\n",
       "30199  526487.656250  3.380699e+06     4.415122\n",
       "\n",
       "[100 rows x 3 columns]"
      ]
     },
     "execution_count": 14,
     "metadata": {},
     "output_type": "execute_result"
    }
   ],
   "source": [
    "data_water_depth = []\n",
    "for i in range(1,months+1):\n",
    "    data_ = pd.read_csv(DIR_ROOT + \"/{}water_depth.xyz.csv\".format(i),header=None)\n",
    "    data_.columns = ['x','y','water_depth']\n",
    "    data_water_depth.append(data_)\n",
    "data_water_depth[4].iloc[30100:30200,:]"
   ]
  },
  {
   "cell_type": "code",
   "execution_count": 15,
   "metadata": {},
   "outputs": [
    {
     "data": {
      "text/plain": [
       "<matplotlib.collections.PathCollection at 0x7fb735d9b8e0>"
      ]
     },
     "execution_count": 15,
     "metadata": {},
     "output_type": "execute_result"
    },
    {
     "data": {
      "image/png": "[encoded data removed]",
      "text/plain": [
       "<Figure size 432x288 with 1 Axes>"
      ]
     },
     "metadata": {
      "needs_background": "light"
     },
     "output_type": "display_data"
    }
   ],
   "source": [
    "plt.scatter(data_bed[4].iloc[:,2],data_sedmiment[4].iloc[:,3])"
   ]
  },
  {
   "cell_type": "code",
   "execution_count": 16,
   "metadata": {},
   "outputs": [
    {
     "data": {
      "text/plain": [
       "<matplotlib.collections.PathCollection at 0x7fb736625520>"
      ]
     },
     "execution_count": 16,
     "metadata": {},
     "output_type": "execute_result"
    },
    {
     "data": {
      "image/png": "[encoded data removed]",
      "text/plain": [
       "<Figure size 432x288 with 1 Axes>"
      ]
     },
     "metadata": {
      "needs_background": "light"
     },
     "output_type": "display_data"
    }
   ],
   "source": [
    "plt.scatter(data_bed[4].iloc[:,2],data_velocity[4].iloc[:,4])"
   ]
  },
  {
   "cell_type": "code",
   "execution_count": 17,
   "metadata": {},
   "outputs": [
    {
     "data": {
      "text/plain": [
       "0    0.0\n",
       "1    0.0\n",
       "2    0.0\n",
       "Name: concentration, dtype: float64"
      ]
     },
     "execution_count": 17,
     "metadata": {},
     "output_type": "execute_result"
    }
   ],
   "source": [
    "data_sedmiment[4].iloc[0:3,3]"
   ]
  },
  {
   "cell_type": "code",
   "execution_count": 18,
   "metadata": {},
   "outputs": [
    {
     "data": {
      "text/plain": [
       "0    20.538614\n",
       "1    21.723602\n",
       "2    20.020536\n",
       "Name: bed_level, dtype: float64"
      ]
     },
     "execution_count": 18,
     "metadata": {},
     "output_type": "execute_result"
    }
   ],
   "source": [
    "data_bed[4].iloc[0:3,2]"
   ]
  },
  {
   "cell_type": "code",
   "execution_count": 19,
   "metadata": {},
   "outputs": [
    {
     "name": "stdout",
     "output_type": "stream",
     "text": [
      "0\n",
      "1\n",
      "2\n",
      "3\n",
      "4\n",
      "5\n",
      "6\n",
      "7\n",
      "8\n",
      "9\n",
      "10\n",
      "11\n",
      "12\n"
     ]
    }
   ],
   "source": [
    "data_all = []\n",
    "for i in range(0,months):\n",
    "    print(i)\n",
    "    data_ = pd.concat([data_bed[i],data_sedmiment[i].iloc[:,2:4],data_velocity[i].iloc[:,2:5],data_water_depth[i].iloc[:,2]],axis=1)\n",
    "    data_all.append(data_)"
   ]
  },
  {
   "cell_type": "code",
   "execution_count": 20,
   "metadata": {},
   "outputs": [
    {
     "data": {
      "text/plain": [
       "[                   x             y  bed_level     sand_z  concentration  \\\n",
       " 0      518693.195313  3.368709e+06  20.538614  20.538614            0.0   \n",
       " 1      518732.648438  3.368797e+06  21.723602  21.723602            0.0   \n",
       " 2      518775.289063  3.368875e+06  20.020536  20.020536            0.0   \n",
       " 3      518825.367188  3.368948e+06  22.505301  22.505301            0.0   \n",
       " 4      518882.789063  3.369016e+06  24.735243  24.735243            0.0   \n",
       " ...              ...           ...        ...        ...            ...   \n",
       " 35995  527137.609375  3.382640e+06  24.382263  24.382263            0.0   \n",
       " 35996  527168.234375  3.382688e+06  24.036366  24.036366            0.0   \n",
       " 35997  527196.937500  3.382736e+06  24.412762  24.412762            0.0   \n",
       " 35998  527224.312500  3.382784e+06  24.797714  24.797714            0.0   \n",
       " 35999  527250.968750  3.382832e+06  24.585445  24.585445            0.0   \n",
       " \n",
       "        x_velocity  y_velocity  xy_velocity  water_depth  \n",
       " 0             0.0         0.0          0.0          0.0  \n",
       " 1             0.0         0.0          0.0          0.0  \n",
       " 2             0.0         0.0          0.0          0.0  \n",
       " 3             0.0         0.0          0.0          0.0  \n",
       " 4             0.0         0.0          0.0          0.0  \n",
       " ...           ...         ...          ...          ...  \n",
       " 35995         0.0         0.0          0.0          0.0  \n",
       " 35996         0.0         0.0          0.0          0.0  \n",
       " 35997         0.0         0.0          0.0          0.0  \n",
       " 35998         0.0         0.0          0.0          0.0  \n",
       " 35999         0.0         0.0          0.0          0.0  \n",
       " \n",
       " [36000 rows x 9 columns],\n",
       "                    x             y  bed_level     sand_z  concentration  \\\n",
       " 0      518693.195313  3.368709e+06  20.538614  20.538614            0.0   \n",
       " 1      518732.648438  3.368797e+06  21.723602  21.723602            0.0   \n",
       " 2      518775.289063  3.368875e+06  20.020536  20.020536            0.0   \n",
       " 3      518825.367188  3.368948e+06  22.505301  22.505301            0.0   \n",
       " 4      518882.789063  3.369016e+06  24.735243  24.735243            0.0   \n",
       " ...              ...           ...        ...        ...            ...   \n",
       " 35995  527137.609375  3.382640e+06  24.382263  24.382263            0.0   \n",
       " 35996  527168.234375  3.382688e+06  24.036366  24.036366            0.0   \n",
       " 35997  527196.937500  3.382736e+06  24.412762  24.412762            0.0   \n",
       " 35998  527224.312500  3.382784e+06  24.797714  24.797714            0.0   \n",
       " 35999  527250.968750  3.382832e+06  24.585445  24.585445            0.0   \n",
       " \n",
       "        x_velocity  y_velocity  xy_velocity  water_depth  \n",
       " 0             0.0         0.0          0.0          0.0  \n",
       " 1             0.0         0.0          0.0          0.0  \n",
       " 2             0.0         0.0          0.0          0.0  \n",
       " 3             0.0         0.0          0.0          0.0  \n",
       " 4             0.0         0.0          0.0          0.0  \n",
       " ...           ...         ...          ...          ...  \n",
       " 35995         0.0         0.0          0.0          0.0  \n",
       " 35996         0.0         0.0          0.0          0.0  \n",
       " 35997         0.0         0.0          0.0          0.0  \n",
       " 35998         0.0         0.0          0.0          0.0  \n",
       " 35999         0.0         0.0          0.0          0.0  \n",
       " \n",
       " [36000 rows x 9 columns],\n",
       "                    x             y  bed_level     sand_z  concentration  \\\n",
       " 0      518693.195313  3.368709e+06  20.538614  20.538614            0.0   \n",
       " 1      518732.648438  3.368797e+06  21.723602  21.723602            0.0   \n",
       " 2      518775.289063  3.368875e+06  20.020536  20.020536            0.0   \n",
       " 3      518825.367188  3.368948e+06  22.505301  22.505301            0.0   \n",
       " 4      518882.789063  3.369016e+06  24.735243  24.735243            0.0   \n",
       " ...              ...           ...        ...        ...            ...   \n",
       " 35995  527137.609375  3.382640e+06  24.382263  24.382263            0.0   \n",
       " 35996  527168.234375  3.382688e+06  24.036366  24.036366            0.0   \n",
       " 35997  527196.937500  3.382736e+06  24.412762  24.412762            0.0   \n",
       " 35998  527224.312500  3.382784e+06  24.797714  24.797714            0.0   \n",
       " 35999  527250.968750  3.382832e+06  24.585445  24.585445            0.0   \n",
       " \n",
       "        x_velocity  y_velocity  xy_velocity  water_depth  \n",
       " 0             0.0         0.0          0.0          0.0  \n",
       " 1             0.0         0.0          0.0          0.0  \n",
       " 2             0.0         0.0          0.0          0.0  \n",
       " 3             0.0         0.0          0.0          0.0  \n",
       " 4             0.0         0.0          0.0          0.0  \n",
       " ...           ...         ...          ...          ...  \n",
       " 35995         0.0         0.0          0.0          0.0  \n",
       " 35996         0.0         0.0          0.0          0.0  \n",
       " 35997         0.0         0.0          0.0          0.0  \n",
       " 35998         0.0         0.0          0.0          0.0  \n",
       " 35999         0.0         0.0          0.0          0.0  \n",
       " \n",
       " [36000 rows x 9 columns],\n",
       "                    x             y  bed_level     sand_z  concentration  \\\n",
       " 0      518693.195313  3.368709e+06  20.538614  20.538614            0.0   \n",
       " 1      518732.648438  3.368797e+06  21.723602  21.723602            0.0   \n",
       " 2      518775.289063  3.368875e+06  20.020536  20.020536            0.0   \n",
       " 3      518825.367188  3.368948e+06  22.505301  22.505301            0.0   \n",
       " 4      518882.789063  3.369016e+06  24.735243  24.735243            0.0   \n",
       " ...              ...           ...        ...        ...            ...   \n",
       " 35995  527137.609375  3.382640e+06  24.382263  24.382263            0.0   \n",
       " 35996  527168.234375  3.382688e+06  24.036366  24.036366            0.0   \n",
       " 35997  527196.937500  3.382736e+06  24.412762  24.412762            0.0   \n",
       " 35998  527224.312500  3.382784e+06  24.797714  24.797714            0.0   \n",
       " 35999  527250.968750  3.382832e+06  24.585445  24.585445            0.0   \n",
       " \n",
       "        x_velocity  y_velocity  xy_velocity  water_depth  \n",
       " 0             0.0         0.0          0.0          0.0  \n",
       " 1             0.0         0.0          0.0          0.0  \n",
       " 2             0.0         0.0          0.0          0.0  \n",
       " 3             0.0         0.0          0.0          0.0  \n",
       " 4             0.0         0.0          0.0          0.0  \n",
       " ...           ...         ...          ...          ...  \n",
       " 35995         0.0         0.0          0.0          0.0  \n",
       " 35996         0.0         0.0          0.0          0.0  \n",
       " 35997         0.0         0.0          0.0          0.0  \n",
       " 35998         0.0         0.0          0.0          0.0  \n",
       " 35999         0.0         0.0          0.0          0.0  \n",
       " \n",
       " [36000 rows x 9 columns],\n",
       "                    x             y  bed_level     sand_z  concentration  \\\n",
       " 0      518693.195313  3.368709e+06  20.538614  20.538614            0.0   \n",
       " 1      518732.648438  3.368797e+06  21.723602  21.723602            0.0   \n",
       " 2      518775.289063  3.368875e+06  20.020536  20.020536            0.0   \n",
       " 3      518825.367188  3.368948e+06  22.505301  22.505301            0.0   \n",
       " 4      518882.789063  3.369016e+06  24.735243  24.735243            0.0   \n",
       " ...              ...           ...        ...        ...            ...   \n",
       " 35995  527137.609375  3.382640e+06  24.382263  24.382263            0.0   \n",
       " 35996  527168.234375  3.382688e+06  24.036366  24.036366            0.0   \n",
       " 35997  527196.937500  3.382736e+06  24.412762  24.412762            0.0   \n",
       " 35998  527224.312500  3.382784e+06  24.797714  24.797714            0.0   \n",
       " 35999  527250.968750  3.382832e+06  24.585445  24.585445            0.0   \n",
       " \n",
       "        x_velocity  y_velocity  xy_velocity  water_depth  \n",
       " 0             0.0         0.0          0.0          0.0  \n",
       " 1             0.0         0.0          0.0          0.0  \n",
       " 2             0.0         0.0          0.0          0.0  \n",
       " 3             0.0         0.0          0.0          0.0  \n",
       " 4             0.0         0.0          0.0          0.0  \n",
       " ...           ...         ...          ...          ...  \n",
       " 35995         0.0         0.0          0.0          0.0  \n",
       " 35996         0.0         0.0          0.0          0.0  \n",
       " 35997         0.0         0.0          0.0          0.0  \n",
       " 35998         0.0         0.0          0.0          0.0  \n",
       " 35999         0.0         0.0          0.0          0.0  \n",
       " \n",
       " [36000 rows x 9 columns],\n",
       "                    x             y  bed_level     sand_z  concentration  \\\n",
       " 0      518693.195313  3.368709e+06  20.538614  20.538614            0.0   \n",
       " 1      518732.648438  3.368797e+06  21.723602  21.723602            0.0   \n",
       " 2      518775.289063  3.368875e+06  20.020536  20.020536            0.0   \n",
       " 3      518825.367188  3.368948e+06  22.505301  22.505301            0.0   \n",
       " 4      518882.789063  3.369016e+06  24.735243  24.735243            0.0   \n",
       " ...              ...           ...        ...        ...            ...   \n",
       " 35995  527137.609375  3.382640e+06  24.382263  24.382263            0.0   \n",
       " 35996  527168.234375  3.382688e+06  24.036366  24.036366            0.0   \n",
       " 35997  527196.937500  3.382736e+06  24.412762  24.412762            0.0   \n",
       " 35998  527224.312500  3.382784e+06  24.797714  24.797714            0.0   \n",
       " 35999  527250.968750  3.382832e+06  24.585445  24.585445            0.0   \n",
       " \n",
       "        x_velocity  y_velocity  xy_velocity  water_depth  \n",
       " 0             0.0         0.0          0.0          0.0  \n",
       " 1             0.0         0.0          0.0          0.0  \n",
       " 2             0.0         0.0          0.0          0.0  \n",
       " 3             0.0         0.0          0.0          0.0  \n",
       " 4             0.0         0.0          0.0          0.0  \n",
       " ...           ...         ...          ...          ...  \n",
       " 35995         0.0         0.0          0.0          0.0  \n",
       " 35996         0.0         0.0          0.0          0.0  \n",
       " 35997         0.0         0.0          0.0          0.0  \n",
       " 35998         0.0         0.0          0.0          0.0  \n",
       " 35999         0.0         0.0          0.0          0.0  \n",
       " \n",
       " [36000 rows x 9 columns],\n",
       "                    x             y  bed_level     sand_z  concentration  \\\n",
       " 0      518693.195313  3.368709e+06  20.538614  20.538614            0.0   \n",
       " 1      518732.648438  3.368797e+06  21.723602  21.723602            0.0   \n",
       " 2      518775.289063  3.368875e+06  20.020536  20.020536            0.0   \n",
       " 3      518825.367188  3.368948e+06  22.505301  22.505301            0.0   \n",
       " 4      518882.789063  3.369016e+06  24.735243  24.735243            0.0   \n",
       " ...              ...           ...        ...        ...            ...   \n",
       " 35995  527137.609375  3.382640e+06  24.382263  24.382263            0.0   \n",
       " 35996  527168.234375  3.382688e+06  24.036366  24.036366            0.0   \n",
       " 35997  527196.937500  3.382736e+06  24.412762  24.412762            0.0   \n",
       " 35998  527224.312500  3.382784e+06  24.797714  24.797714            0.0   \n",
       " 35999  527250.968750  3.382832e+06  24.585445  24.585445            0.0   \n",
       " \n",
       "        x_velocity  y_velocity  xy_velocity  water_depth  \n",
       " 0             0.0         0.0          0.0          0.0  \n",
       " 1             0.0         0.0          0.0          0.0  \n",
       " 2             0.0         0.0          0.0          0.0  \n",
       " 3             0.0         0.0          0.0          0.0  \n",
       " 4             0.0         0.0          0.0          0.0  \n",
       " ...           ...         ...          ...          ...  \n",
       " 35995         0.0         0.0          0.0          0.0  \n",
       " 35996         0.0         0.0          0.0          0.0  \n",
       " 35997         0.0         0.0          0.0          0.0  \n",
       " 35998         0.0         0.0          0.0          0.0  \n",
       " 35999         0.0         0.0          0.0          0.0  \n",
       " \n",
       " [36000 rows x 9 columns],\n",
       "                    x             y  bed_level     sand_z  concentration  \\\n",
       " 0      518693.195313  3.368709e+06  20.538614  20.538614            0.0   \n",
       " 1      518732.648438  3.368797e+06  21.723602  21.723602            0.0   \n",
       " 2      518775.289063  3.368875e+06  20.020536  20.020536            0.0   \n",
       " 3      518825.367188  3.368948e+06  22.505301  22.505301            0.0   \n",
       " 4      518882.789063  3.369016e+06  24.735243  24.735243            0.0   \n",
       " ...              ...           ...        ...        ...            ...   \n",
       " 35995  527137.609375  3.382640e+06  24.382263  24.382263            0.0   \n",
       " 35996  527168.234375  3.382688e+06  24.036366  24.036366            0.0   \n",
       " 35997  527196.937500  3.382736e+06  24.412762  24.412762            0.0   \n",
       " 35998  527224.312500  3.382784e+06  24.797714  24.797714            0.0   \n",
       " 35999  527250.968750  3.382832e+06  24.585445  24.585445            0.0   \n",
       " \n",
       "        x_velocity  y_velocity  xy_velocity  water_depth  \n",
       " 0             0.0         0.0          0.0          0.0  \n",
       " 1             0.0         0.0          0.0          0.0  \n",
       " 2             0.0         0.0          0.0          0.0  \n",
       " 3             0.0         0.0          0.0          0.0  \n",
       " 4             0.0         0.0          0.0          0.0  \n",
       " ...           ...         ...          ...          ...  \n",
       " 35995         0.0         0.0          0.0          0.0  \n",
       " 35996         0.0         0.0          0.0          0.0  \n",
       " 35997         0.0         0.0          0.0          0.0  \n",
       " 35998         0.0         0.0          0.0          0.0  \n",
       " 35999         0.0         0.0          0.0          0.0  \n",
       " \n",
       " [36000 rows x 9 columns],\n",
       "                    x             y  bed_level     sand_z  concentration  \\\n",
       " 0      518693.195313  3.368709e+06  20.538614  20.538614            0.0   \n",
       " 1      518732.648438  3.368797e+06  21.723602  21.723602            0.0   \n",
       " 2      518775.289063  3.368875e+06  20.020536  20.020536            0.0   \n",
       " 3      518825.367188  3.368948e+06  22.505301  22.505301            0.0   \n",
       " 4      518882.789063  3.369016e+06  24.735243  24.735243            0.0   \n",
       " ...              ...           ...        ...        ...            ...   \n",
       " 35995  527137.609375  3.382640e+06  24.382263  24.382263            0.0   \n",
       " 35996  527168.234375  3.382688e+06  24.036366  24.036366            0.0   \n",
       " 35997  527196.937500  3.382736e+06  24.412762  24.412762            0.0   \n",
       " 35998  527224.312500  3.382784e+06  24.797714  24.797714            0.0   \n",
       " 35999  527250.968750  3.382832e+06  24.585445  24.585445            0.0   \n",
       " \n",
       "        x_velocity  y_velocity  xy_velocity  water_depth  \n",
       " 0             0.0         0.0          0.0          0.0  \n",
       " 1             0.0         0.0          0.0          0.0  \n",
       " 2             0.0         0.0          0.0          0.0  \n",
       " 3             0.0         0.0          0.0          0.0  \n",
       " 4             0.0         0.0          0.0          0.0  \n",
       " ...           ...         ...          ...          ...  \n",
       " 35995         0.0         0.0          0.0          0.0  \n",
       " 35996         0.0         0.0          0.0          0.0  \n",
       " 35997         0.0         0.0          0.0          0.0  \n",
       " 35998         0.0         0.0          0.0          0.0  \n",
       " 35999         0.0         0.0          0.0          0.0  \n",
       " \n",
       " [36000 rows x 9 columns],\n",
       "                    x             y  bed_level     sand_z  concentration  \\\n",
       " 0      518693.195313  3.368709e+06  20.538614  20.538614            0.0   \n",
       " 1      518732.648438  3.368797e+06  21.723602  21.723602            0.0   \n",
       " 2      518775.289063  3.368875e+06  20.020536  20.020536            0.0   \n",
       " 3      518825.367188  3.368948e+06  22.505301  22.505301            0.0   \n",
       " 4      518882.789063  3.369016e+06  24.735243  24.735243            0.0   \n",
       " ...              ...           ...        ...        ...            ...   \n",
       " 35995  527137.609375  3.382640e+06  24.382263  24.382263            0.0   \n",
       " 35996  527168.234375  3.382688e+06  24.036366  24.036366            0.0   \n",
       " 35997  527196.937500  3.382736e+06  24.412762  24.412762            0.0   \n",
       " 35998  527224.312500  3.382784e+06  24.797714  24.797714            0.0   \n",
       " 35999  527250.968750  3.382832e+06  24.585445  24.585445            0.0   \n",
       " \n",
       "        x_velocity  y_velocity  xy_velocity  water_depth  \n",
       " 0             0.0         0.0          0.0          0.0  \n",
       " 1             0.0         0.0          0.0          0.0  \n",
       " 2             0.0         0.0          0.0          0.0  \n",
       " 3             0.0         0.0          0.0          0.0  \n",
       " 4             0.0         0.0          0.0          0.0  \n",
       " ...           ...         ...          ...          ...  \n",
       " 35995         0.0         0.0          0.0          0.0  \n",
       " 35996         0.0         0.0          0.0          0.0  \n",
       " 35997         0.0         0.0          0.0          0.0  \n",
       " 35998         0.0         0.0          0.0          0.0  \n",
       " 35999         0.0         0.0          0.0          0.0  \n",
       " \n",
       " [36000 rows x 9 columns],\n",
       "                    x             y  bed_level     sand_z  concentration  \\\n",
       " 0      518693.195313  3.368709e+06  20.538614  20.538614            0.0   \n",
       " 1      518732.648438  3.368797e+06  21.723602  21.723602            0.0   \n",
       " 2      518775.289063  3.368875e+06  20.020536  20.020536            0.0   \n",
       " 3      518825.367188  3.368948e+06  22.505301  22.505301            0.0   \n",
       " 4      518882.789063  3.369016e+06  24.735243  24.735243            0.0   \n",
       " ...              ...           ...        ...        ...            ...   \n",
       " 35995  527137.609375  3.382640e+06  24.382263  24.382263            0.0   \n",
       " 35996  527168.234375  3.382688e+06  24.036366  24.036366            0.0   \n",
       " 35997  527196.937500  3.382736e+06  24.412762  24.412762            0.0   \n",
       " 35998  527224.312500  3.382784e+06  24.797714  24.797714            0.0   \n",
       " 35999  527250.968750  3.382832e+06  24.585445  24.585445            0.0   \n",
       " \n",
       "        x_velocity  y_velocity  xy_velocity  water_depth  \n",
       " 0             0.0         0.0          0.0          0.0  \n",
       " 1             0.0         0.0          0.0          0.0  \n",
       " 2             0.0         0.0          0.0          0.0  \n",
       " 3             0.0         0.0          0.0          0.0  \n",
       " 4             0.0         0.0          0.0          0.0  \n",
       " ...           ...         ...          ...          ...  \n",
       " 35995         0.0         0.0          0.0          0.0  \n",
       " 35996         0.0         0.0          0.0          0.0  \n",
       " 35997         0.0         0.0          0.0          0.0  \n",
       " 35998         0.0         0.0          0.0          0.0  \n",
       " 35999         0.0         0.0          0.0          0.0  \n",
       " \n",
       " [36000 rows x 9 columns],\n",
       "                    x             y  bed_level     sand_z  concentration  \\\n",
       " 0      518693.195313  3.368709e+06  20.538614  20.538614            0.0   \n",
       " 1      518732.648438  3.368797e+06  21.723602  21.723602            0.0   \n",
       " 2      518775.289063  3.368875e+06  20.020536  20.020536            0.0   \n",
       " 3      518825.367188  3.368948e+06  22.505301  22.505301            0.0   \n",
       " 4      518882.789063  3.369016e+06  24.735243  24.735243            0.0   \n",
       " ...              ...           ...        ...        ...            ...   \n",
       " 35995  527137.609375  3.382640e+06  24.382263  24.382263            0.0   \n",
       " 35996  527168.234375  3.382688e+06  24.036366  24.036366            0.0   \n",
       " 35997  527196.937500  3.382736e+06  24.412762  24.412762            0.0   \n",
       " 35998  527224.312500  3.382784e+06  24.797714  24.797714            0.0   \n",
       " 35999  527250.968750  3.382832e+06  24.585445  24.585445            0.0   \n",
       " \n",
       "        x_velocity  y_velocity  xy_velocity  water_depth  \n",
       " 0             0.0         0.0          0.0          0.0  \n",
       " 1             0.0         0.0          0.0          0.0  \n",
       " 2             0.0         0.0          0.0          0.0  \n",
       " 3             0.0         0.0          0.0          0.0  \n",
       " 4             0.0         0.0          0.0          0.0  \n",
       " ...           ...         ...          ...          ...  \n",
       " 35995         0.0         0.0          0.0          0.0  \n",
       " 35996         0.0         0.0          0.0          0.0  \n",
       " 35997         0.0         0.0          0.0          0.0  \n",
       " 35998         0.0         0.0          0.0          0.0  \n",
       " 35999         0.0         0.0          0.0          0.0  \n",
       " \n",
       " [36000 rows x 9 columns],\n",
       "                    x             y  bed_level     sand_z  concentration  \\\n",
       " 0      518693.195313  3.368709e+06  20.538614  20.538614            0.0   \n",
       " 1      518732.648438  3.368797e+06  21.723602  21.723602            0.0   \n",
       " 2      518775.289063  3.368875e+06  20.020536  20.020536            0.0   \n",
       " 3      518825.367188  3.368948e+06  22.505301  22.505301            0.0   \n",
       " 4      518882.789063  3.369016e+06  24.735243  24.735243            0.0   \n",
       " ...              ...           ...        ...        ...            ...   \n",
       " 35995  527137.609375  3.382640e+06  24.382263  24.382263            0.0   \n",
       " 35996  527168.234375  3.382688e+06  24.036366  24.036366            0.0   \n",
       " 35997  527196.937500  3.382736e+06  24.412762  24.412762            0.0   \n",
       " 35998  527224.312500  3.382784e+06  24.797714  24.797714            0.0   \n",
       " 35999  527250.968750  3.382832e+06  24.585445  24.585445            0.0   \n",
       " \n",
       "        x_velocity  y_velocity  xy_velocity  water_depth  \n",
       " 0             0.0         0.0          0.0          0.0  \n",
       " 1             0.0         0.0          0.0          0.0  \n",
       " 2             0.0         0.0          0.0          0.0  \n",
       " 3             0.0         0.0          0.0          0.0  \n",
       " 4             0.0         0.0          0.0          0.0  \n",
       " ...           ...         ...          ...          ...  \n",
       " 35995         0.0         0.0          0.0          0.0  \n",
       " 35996         0.0         0.0          0.0          0.0  \n",
       " 35997         0.0         0.0          0.0          0.0  \n",
       " 35998         0.0         0.0          0.0          0.0  \n",
       " 35999         0.0         0.0          0.0          0.0  \n",
       " \n",
       " [36000 rows x 9 columns]]"
      ]
     },
     "execution_count": 20,
     "metadata": {},
     "output_type": "execute_result"
    }
   ],
   "source": [
    "data_all[:100]"
   ]
  },
  {
   "cell_type": "code",
   "execution_count": null,
   "metadata": {},
   "outputs": [],
   "source": []
  },
  {
   "cell_type": "code",
   "execution_count": 21,
   "metadata": {},
   "outputs": [
    {
     "data": {
      "text/plain": [
       "13"
      ]
     },
     "execution_count": 21,
     "metadata": {},
     "output_type": "execute_result"
    }
   ],
   "source": [
    "len(data_all)"
   ]
  },
  {
   "cell_type": "code",
   "execution_count": 22,
   "metadata": {},
   "outputs": [],
   "source": [
    "step_len = 11\n",
    "predict_len = 1\n",
    "data_len = 36000"
   ]
  },
  {
   "cell_type": "code",
   "execution_count": 91,
   "metadata": {},
   "outputs": [
    {
     "data": {
      "text/plain": [
       "x                5.220424e+05\n",
       "y                3.373878e+06\n",
       "bed_level        1.290496e+00\n",
       "sand_z           6.676435e+00\n",
       "concentration    9.027000e-03\n",
       "x_velocity       3.971000e-01\n",
       "y_velocity       4.961840e-01\n",
       "xy_velocity      6.355210e-01\n",
       "water_depth      1.077188e+01\n",
       "Name: 30100, dtype: float64"
      ]
     },
     "execution_count": 91,
     "metadata": {},
     "output_type": "execute_result"
    }
   ],
   "source": [
    "data_all[4].iloc[30100]"
   ]
  },
  {
   "cell_type": "code",
   "execution_count": 24,
   "metadata": {},
   "outputs": [
    {
     "name": "stdout",
     "output_type": "stream",
     "text": [
      "0\n",
      "1\n"
     ]
    }
   ],
   "source": [
    "data_step = []\n",
    "for i in range(0,months-step_len-predict_len+1):\n",
    "    print(i)\n",
    "    for index, row in data_all[i].iterrows():\n",
    "        data_ = []\n",
    "        for j in range(0,step_len+predict_len):\n",
    "            data_.append(data_all[i+j].iloc[index])\n",
    "        data_step.append(data_)"
   ]
  },
  {
   "cell_type": "code",
   "execution_count": 95,
   "metadata": {},
   "outputs": [
    {
     "data": {
      "text/plain": [
       "array([[5.22042383e+05, 3.37387781e+06, 1.22472500e+00, 6.57947400e+00,\n",
       "        0.00000000e+00, 2.08365000e-01, 2.59817000e-01, 3.33048000e-01,\n",
       "        1.07094990e+01],\n",
       "       [5.22042383e+05, 3.37387781e+06, 1.22536700e+00, 6.57424000e+00,\n",
       "        0.00000000e+00, 1.91482000e-01, 2.38328000e-01, 3.05721000e-01,\n",
       "        1.06977470e+01],\n",
       "       [5.22042383e+05, 3.37387781e+06, 1.22549500e+00, 6.59779800e+00,\n",
       "        0.00000000e+00, 2.72734000e-01, 3.39174000e-01, 4.35227000e-01,\n",
       "        1.07446050e+01],\n",
       "       [5.22042383e+05, 3.37387781e+06, 1.26121900e+00, 6.61260900e+00,\n",
       "        0.00000000e+00, 2.68384000e-01, 3.33830000e-01, 4.28337000e-01,\n",
       "        1.07027790e+01],\n",
       "       [5.22042383e+05, 3.37387781e+06, 1.29049600e+00, 6.67643500e+00,\n",
       "        9.02700000e-03, 3.97100000e-01, 4.96184000e-01, 6.35521000e-01,\n",
       "        1.07718780e+01],\n",
       "       [5.22042383e+05, 3.37387781e+06, 1.58849800e+00, 6.87098300e+00,\n",
       "        4.17760000e-02, 5.17979000e-01, 6.48373000e-01, 8.29874000e-01,\n",
       "        1.05649710e+01],\n",
       "       [5.22042383e+05, 3.37387781e+06, 2.35271800e+00, 7.28847400e+00,\n",
       "        1.28295000e-01, 6.37457000e-01, 8.03314000e-01, 1.02550700e+00,\n",
       "        9.87151300e+00],\n",
       "       [5.22042383e+05, 3.37387781e+06, 2.98927000e+00, 7.54930300e+00,\n",
       "        8.66430000e-02, 5.55224000e-01, 7.10891000e-01, 9.02020000e-01,\n",
       "        9.12006400e+00],\n",
       "       [5.22042383e+05, 3.37387781e+06, 3.01550200e+00, 7.49194000e+00,\n",
       "        7.41600000e-03, 3.48072000e-01, 4.50711000e-01, 5.69469000e-01,\n",
       "        8.95287600e+00],\n",
       "       [5.22042383e+05, 3.37387781e+06, 3.01720100e+00, 7.48352400e+00,\n",
       "        1.87600000e-03, 2.95878000e-01, 3.83387000e-01, 4.84282000e-01,\n",
       "        8.93264700e+00],\n",
       "       [5.22042383e+05, 3.37387781e+06, 3.01917800e+00, 7.47378500e+00,\n",
       "        0.00000000e+00, 2.44581000e-01, 3.17393000e-01, 4.00697000e-01,\n",
       "        8.90921400e+00],\n",
       "       [5.22042383e+05, 3.37387781e+06, 3.01918000e+00, 7.46075900e+00,\n",
       "        0.00000000e+00, 1.73261000e-01, 2.25286000e-01, 2.84206000e-01,\n",
       "        8.88315700e+00]])"
      ]
     },
     "execution_count": 95,
     "metadata": {},
     "output_type": "execute_result"
    }
   ],
   "source": [
    "data_step[30100]"
   ]
  },
  {
   "cell_type": "code",
   "execution_count": 26,
   "metadata": {},
   "outputs": [],
   "source": [
    "data_step = np.array(data_step)"
   ]
  },
  {
   "cell_type": "code",
   "execution_count": 59,
   "metadata": {},
   "outputs": [],
   "source": [
    "tf.random.set_seed(1)"
   ]
  },
  {
   "cell_type": "code",
   "execution_count": 27,
   "metadata": {},
   "outputs": [
    {
     "data": {
      "text/plain": [
       "(72000, 12, 9)"
      ]
     },
     "execution_count": 27,
     "metadata": {},
     "output_type": "execute_result"
    }
   ],
   "source": [
    "data_step.shape"
   ]
  },
  {
   "cell_type": "code",
   "execution_count": 28,
   "metadata": {},
   "outputs": [],
   "source": [
    "x = data_step[:, :-predict_len, :]\n",
    "y = data_step[:, -predict_len, 2]"
   ]
  },
  {
   "cell_type": "code",
   "execution_count": 29,
   "metadata": {},
   "outputs": [
    {
     "data": {
      "text/plain": [
       "((72000, 11, 9), (72000,))"
      ]
     },
     "execution_count": 29,
     "metadata": {},
     "output_type": "execute_result"
    }
   ],
   "source": [
    "x.shape,y.shape"
   ]
  },
  {
   "cell_type": "code",
   "execution_count": 89,
   "metadata": {},
   "outputs": [
    {
     "data": {
      "text/plain": [
       "(array([[[5.22042383e+05, 3.37387781e+06, 1.22472500e+00, 6.57947400e+00,\n",
       "          0.00000000e+00, 2.08365000e-01, 2.59817000e-01, 3.33048000e-01,\n",
       "          1.07094990e+01],\n",
       "         [5.22042383e+05, 3.37387781e+06, 1.22536700e+00, 6.57424000e+00,\n",
       "          0.00000000e+00, 1.91482000e-01, 2.38328000e-01, 3.05721000e-01,\n",
       "          1.06977470e+01],\n",
       "         [5.22042383e+05, 3.37387781e+06, 1.22549500e+00, 6.59779800e+00,\n",
       "          0.00000000e+00, 2.72734000e-01, 3.39174000e-01, 4.35227000e-01,\n",
       "          1.07446050e+01],\n",
       "         [5.22042383e+05, 3.37387781e+06, 1.26121900e+00, 6.61260900e+00,\n",
       "          0.00000000e+00, 2.68384000e-01, 3.33830000e-01, 4.28337000e-01,\n",
       "          1.07027790e+01],\n",
       "         [5.22042383e+05, 3.37387781e+06, 1.29049600e+00, 6.67643500e+00,\n",
       "          9.02700000e-03, 3.97100000e-01, 4.96184000e-01, 6.35521000e-01,\n",
       "          1.07718780e+01],\n",
       "         [5.22042383e+05, 3.37387781e+06, 1.58849800e+00, 6.87098300e+00,\n",
       "          4.17760000e-02, 5.17979000e-01, 6.48373000e-01, 8.29874000e-01,\n",
       "          1.05649710e+01],\n",
       "         [5.22042383e+05, 3.37387781e+06, 2.35271800e+00, 7.28847400e+00,\n",
       "          1.28295000e-01, 6.37457000e-01, 8.03314000e-01, 1.02550700e+00,\n",
       "          9.87151300e+00],\n",
       "         [5.22042383e+05, 3.37387781e+06, 2.98927000e+00, 7.54930300e+00,\n",
       "          8.66430000e-02, 5.55224000e-01, 7.10891000e-01, 9.02020000e-01,\n",
       "          9.12006400e+00],\n",
       "         [5.22042383e+05, 3.37387781e+06, 3.01550200e+00, 7.49194000e+00,\n",
       "          7.41600000e-03, 3.48072000e-01, 4.50711000e-01, 5.69469000e-01,\n",
       "          8.95287600e+00],\n",
       "         [5.22042383e+05, 3.37387781e+06, 3.01720100e+00, 7.48352400e+00,\n",
       "          1.87600000e-03, 2.95878000e-01, 3.83387000e-01, 4.84282000e-01,\n",
       "          8.93264700e+00],\n",
       "         [5.22042383e+05, 3.37387781e+06, 3.01917800e+00, 7.47378500e+00,\n",
       "          0.00000000e+00, 2.44581000e-01, 3.17393000e-01, 4.00697000e-01,\n",
       "          8.90921400e+00]]]),\n",
       " array([3.01918]),\n",
       " 13,\n",
       " 13)"
      ]
     },
     "execution_count": 89,
     "metadata": {},
     "output_type": "execute_result"
    }
   ],
   "source": [
    "x[30100:30101],y[30100:30101],months,len(data_all)"
   ]
  },
  {
   "cell_type": "code",
   "execution_count": 31,
   "metadata": {},
   "outputs": [],
   "source": [
    "split=36000 * (12 - step_len)"
   ]
  },
  {
   "cell_type": "code",
   "execution_count": 72,
   "metadata": {},
   "outputs": [],
   "source": [
    "train_x = np.nan_to_num(x[:split])\n",
    "train_y = y[:split]\n",
    "test_x = np.nan_to_num(x[split:])\n",
    "test_y = y[split:]"
   ]
  },
  {
   "cell_type": "code",
   "execution_count": 73,
   "metadata": {},
   "outputs": [
    {
     "data": {
      "text/plain": [
       "((36000, 11, 9), (36000,), (36000, 11, 9), (36000,))"
      ]
     },
     "execution_count": 73,
     "metadata": {},
     "output_type": "execute_result"
    }
   ],
   "source": [
    "train_x.shape,train_y.shape,test_x.shape,test_y.shape"
   ]
  },
  {
   "cell_type": "code",
   "execution_count": 88,
   "metadata": {},
   "outputs": [
    {
     "data": {
      "text/plain": [
       "(array([[[-4.93673849e+01, -2.38930285e+02, -2.06829348e-01,\n",
       "          -3.71867085e-01,             nan,  1.83597498e-01,\n",
       "           7.18628782e-02,  9.18518055e-02, -1.97021516e-01],\n",
       "         [-4.93673849e+01, -2.38930285e+02, -2.07310558e-01,\n",
       "          -3.72082403e-01, -4.95536712e-01,  2.24532681e-01,\n",
       "           9.18020632e-02,  5.25653653e-02, -1.95915506e-01],\n",
       "         [-4.93673849e+01, -2.38930285e+02, -2.07717025e-01,\n",
       "          -3.72904422e-01, -1.79048562e-01,  1.96971069e-02,\n",
       "          -8.70751260e-02, -1.05052525e-01, -1.96292856e-01],\n",
       "         [-4.93673849e+01, -2.38930285e+02, -2.08249126e-01,\n",
       "          -3.73207109e-01, -4.80119257e-02, -8.73632799e-03,\n",
       "          -9.93277119e-02, -1.10723450e-01, -1.95229505e-01],\n",
       "         [-4.93673849e+01, -2.38930285e+02, -2.08752544e-01,\n",
       "          -3.74658303e-01, -2.61386956e-02, -6.16180054e-02,\n",
       "          -1.35267592e-01, -1.42353448e-01, -1.96611409e-01],\n",
       "         [-4.93673849e+01, -2.38930285e+02, -2.10022399e-01,\n",
       "          -3.76725202e-01, -8.40079756e-02, -7.11182676e-02,\n",
       "          -1.59459242e-01, -1.71701436e-01, -1.97604235e-01],\n",
       "         [-4.93673849e+01, -2.38930285e+02, -2.13500529e-01,\n",
       "          -3.80643317e-01, -7.03593310e-03, -7.06643025e-02,\n",
       "          -1.60676000e-01, -1.79737929e-01, -1.97776989e-01],\n",
       "         [-4.93673849e+01, -2.38930285e+02, -2.17167165e-01,\n",
       "          -3.83275979e-01,  1.90167192e+00,  1.72343598e-02,\n",
       "          -8.05226677e-02, -1.11386329e-01, -1.97927529e-01],\n",
       "         [-4.93673849e+01, -2.38930285e+02, -2.18291501e-01,\n",
       "          -3.82743324e-01,  1.50595894e-01,  1.25690549e-01,\n",
       "           4.06099195e-02,  3.31165861e-02, -1.94746852e-01],\n",
       "         [-4.93673849e+01, -2.38930285e+02, -2.18664210e-01,\n",
       "          -3.82787162e-01,  2.41794787e-01, -1.46407718e-02,\n",
       "          -4.05470842e-02, -4.97417320e-02, -1.93615543e-01],\n",
       "         [-4.93673849e+01, -2.38930285e+02, -2.19013343e-01,\n",
       "          -3.82783376e-01, -6.84381639e-03,  2.45814880e-01,\n",
       "           7.46094571e-02,  1.12356030e-01, -1.92465700e-01]]]),\n",
       " array([3.01918]))"
      ]
     },
     "execution_count": 88,
     "metadata": {},
     "output_type": "execute_result"
    }
   ],
   "source": [
    "train_x[30100:30101],train_y[30100:30101]"
   ]
  },
  {
   "cell_type": "code",
   "execution_count": 75,
   "metadata": {},
   "outputs": [
    {
     "data": {
      "text/plain": [
       "(11, 9)"
      ]
     },
     "execution_count": 75,
     "metadata": {},
     "output_type": "execute_result"
    }
   ],
   "source": [
    "mean = train_x.mean(axis=0)\n",
    "std = train_x.std(axis=0)\n",
    "train_max = train_x.max(axis=0)\n",
    "train_min = train_x.min(axis=0)\n",
    "mean.shape"
   ]
  },
  {
   "cell_type": "code",
   "execution_count": 86,
   "metadata": {},
   "outputs": [
    {
     "data": {
      "text/plain": [
       "array([[ 5.17614758e+05,  3.36870919e+06, -1.33387220e+01,\n",
       "        -7.27294000e-01,  0.00000000e+00, -1.06784000e-01,\n",
       "        -1.35020000e-02,  0.00000000e+00,  0.00000000e+00],\n",
       "       [ 5.17614758e+05,  3.36870919e+06, -1.33387220e+01,\n",
       "        -7.28569000e-01,  0.00000000e+00, -1.02338000e-01,\n",
       "        -1.27690000e-02,  0.00000000e+00,  0.00000000e+00],\n",
       "       [ 5.17614758e+05,  3.36870919e+06, -1.33387210e+01,\n",
       "        -7.23475000e-01,  0.00000000e+00, -1.64433000e-01,\n",
       "        -1.93870000e-02,  0.00000000e+00,  0.00000000e+00],\n",
       "       [ 5.17614758e+05,  3.36870919e+06, -1.33383020e+01,\n",
       "        -7.23779000e-01,  0.00000000e+00, -1.57450000e-01,\n",
       "        -1.88480000e-02,  0.00000000e+00,  0.00000000e+00],\n",
       "       [ 5.17614758e+05,  3.36870919e+06, -1.33378730e+01,\n",
       "        -7.13008000e-01,  0.00000000e+00, -2.50724000e-01,\n",
       "        -2.64730000e-02,  0.00000000e+00,  0.00000000e+00],\n",
       "       [ 5.17614758e+05,  3.36870919e+06, -1.32822000e+01,\n",
       "        -6.74442000e-01,  0.00000000e+00, -3.10428000e-01,\n",
       "        -3.23490000e-02,  0.00000000e+00,  0.00000000e+00],\n",
       "       [ 5.17614758e+05,  3.36870919e+06, -1.30350520e+01,\n",
       "        -5.40936000e-01,  0.00000000e+00, -3.36598000e-01,\n",
       "        -3.72030000e-02,  0.00000000e+00,  0.00000000e+00],\n",
       "       [ 5.17614758e+05,  3.36870919e+06, -1.25046210e+01,\n",
       "        -2.88383000e-01,  0.00000000e+00, -2.24266000e-01,\n",
       "        -3.46830000e-02,  0.00000000e+00,  0.00000000e+00],\n",
       "       [ 5.17614758e+05,  3.36870919e+06, -1.23679080e+01,\n",
       "        -2.36053000e-01,  0.00000000e+00, -2.17304000e-01,\n",
       "        -7.06280000e-02,  0.00000000e+00,  0.00000000e+00],\n",
       "       [ 5.17614758e+05,  3.36870919e+06, -1.23677160e+01,\n",
       "        -2.37883000e-01,  0.00000000e+00, -1.77780000e-01,\n",
       "        -5.70078000e-01,  0.00000000e+00,  0.00000000e+00],\n",
       "       [ 5.17614758e+05,  3.36870919e+06, -1.23677160e+01,\n",
       "        -2.40225000e-01,  0.00000000e+00, -1.28336000e-01,\n",
       "        -1.28941000e-01,  0.00000000e+00,  0.00000000e+00]])"
      ]
     },
     "execution_count": 86,
     "metadata": {},
     "output_type": "execute_result"
    }
   ],
   "source": [
    "train_min"
   ]
  },
  {
   "cell_type": "code",
   "execution_count": 81,
   "metadata": {},
   "outputs": [
    {
     "data": {
      "text/plain": [
       "(array([[[-4.93674148e+01, -2.38930311e+02, -1.96866010e-01,\n",
       "          -3.57724418e-01,             nan, -7.73810982e-01,\n",
       "          -1.28138183e+00, -1.33050955e+00, -2.13855255e-01],\n",
       "         [-4.93674148e+01, -2.38930311e+02, -1.97347551e-01,\n",
       "          -3.57935582e-01, -4.95536712e-01, -8.26317386e-01,\n",
       "          -1.28939177e+00, -1.10909824e+00, -2.12734173e-01],\n",
       "         [-4.93674148e+01, -2.38930311e+02, -1.97754085e-01,\n",
       "          -3.58776885e-01, -1.79048562e-01, -4.65221526e-01,\n",
       "          -6.83846167e-01, -6.01466544e-01, -2.13171554e-01],\n",
       "         [-4.93674148e+01, -2.38930311e+02, -1.98304425e-01,\n",
       "          -3.59094855e-01, -4.80119257e-02, -3.58415754e-01,\n",
       "          -4.98291813e-01, -4.39994757e-01, -2.12044430e-01],\n",
       "         [-4.93674148e+01, -2.38930311e+02, -1.98822752e-01,\n",
       "          -3.60601091e-01, -3.65597776e-02, -2.65896052e-01,\n",
       "          -3.72316720e-01, -3.38085861e-01, -2.13507177e-01],\n",
       "         [-4.93674148e+01, -2.38930311e+02, -2.00221571e-01,\n",
       "          -3.62831169e-01, -1.86229394e-01, -3.35435934e-01,\n",
       "          -4.48565198e-01, -4.22464563e-01, -2.14220469e-01],\n",
       "         [-4.93674148e+01, -2.38930311e+02, -2.03988320e-01,\n",
       "          -3.67058283e-01, -5.35589102e-01, -3.78122609e-01,\n",
       "          -4.82574575e-01, -4.70552329e-01, -2.13586288e-01],\n",
       "         [-4.93674148e+01, -2.38930311e+02, -2.07761078e-01,\n",
       "          -3.69740333e-01, -1.41358802e+00, -4.73330013e-01,\n",
       "          -5.78230987e-01, -5.52660710e-01, -2.13205403e-01],\n",
       "         [-4.93674148e+01, -2.38930311e+02, -2.08839738e-01,\n",
       "          -3.69101854e-01, -6.54194042e-02, -5.12512214e-01,\n",
       "          -6.40223786e-01, -6.97320995e-01, -2.09954015e-01],\n",
       "         [-4.93674148e+01, -2.38930311e+02, -2.09213279e-01,\n",
       "          -3.69138508e-01, -9.26789146e-02, -1.83166610e-01,\n",
       "          -3.04615166e-01, -3.44828146e-01, -2.08793404e-01],\n",
       "         [-4.93674148e+01, -2.38930311e+02, -2.09563478e-01,\n",
       "          -3.69126608e-01, -6.84381639e-03, -6.33526049e-01,\n",
       "          -6.04933463e-01, -7.51530736e-01, -2.07609592e-01]]]),\n",
       " array([20.538614]))"
      ]
     },
     "execution_count": 81,
     "metadata": {},
     "output_type": "execute_result"
    }
   ],
   "source": [
    "train_x = (train_x - mean)/(train_max - train_min)\n",
    "test_x = (test_x - mean)/(train_max - train_min)\n",
    "train_x[:1],train_y[:1]"
   ]
  },
  {
   "cell_type": "code",
   "execution_count": 82,
   "metadata": {},
   "outputs": [
    {
     "name": "stdout",
     "output_type": "stream",
     "text": [
      "Model: \"sequential_3\"\n",
      "_________________________________________________________________\n",
      "Layer (type)                 Output Shape              Param #   \n",
      "=================================================================\n",
      "lstm_9 (LSTM)                (None, 11, 32)            5376      \n",
      "_________________________________________________________________\n",
      "lstm_10 (LSTM)               (None, 11, 16)            3136      \n",
      "_________________________________________________________________\n",
      "lstm_11 (LSTM)               (None, 8)                 800       \n",
      "_________________________________________________________________\n",
      "dense_3 (Dense)              (None, 1)                 9         \n",
      "=================================================================\n",
      "Total params: 9,321\n",
      "Trainable params: 9,321\n",
      "Non-trainable params: 0\n",
      "_________________________________________________________________\n"
     ]
    }
   ],
   "source": [
    "model = tf.keras.Sequential()\n",
    "model.add(layers.LSTM(32,return_sequences=True, input_shape=(train_x.shape[1:]), ))\n",
    "model.add(layers.LSTM(16,return_sequences=True))\n",
    "model.add(layers.LSTM(8))\n",
    "model.add(layers.Dense(1))\n",
    "model.summary()"
   ]
  },
  {
   "cell_type": "code",
   "execution_count": 83,
   "metadata": {},
   "outputs": [],
   "source": [
    "model.compile(optimizer='adam',\n",
    "              loss='mae'\n",
    ")"
   ]
  },
  {
   "cell_type": "code",
   "execution_count": 84,
   "metadata": {},
   "outputs": [
    {
     "name": "stdout",
     "output_type": "stream",
     "text": [
      "Epoch 1/10\n",
      "100/100 [==============================] - 1s 14ms/step - loss: nan\n",
      "Epoch 2/10\n",
      "100/100 [==============================] - 1s 14ms/step - loss: nan\n",
      "Epoch 3/10\n",
      "100/100 [==============================] - 2s 15ms/step - loss: nan\n",
      "Epoch 4/10\n",
      "100/100 [==============================] - 1s 14ms/step - loss: nan\n",
      "Epoch 5/10\n",
      "100/100 [==============================] - 1s 14ms/step - loss: nan\n",
      "Epoch 6/10\n",
      "100/100 [==============================] - 1s 14ms/step - loss: nan\n",
      "Epoch 7/10\n",
      "100/100 [==============================] - 1s 14ms/step - loss: nan\n",
      "Epoch 8/10\n",
      "100/100 [==============================] - 1s 14ms/step - loss: nan\n",
      "Epoch 9/10\n",
      "100/100 [==============================] - 1s 14ms/step - loss: nan\n",
      "Epoch 10/10\n",
      "100/100 [==============================] - 1s 15ms/step - loss: nan\n",
      "fit cost time: 17.53 s\n"
     ]
    }
   ],
   "source": [
    "time_begin = time.time()\n",
    "history = model.fit(train_x, train_y, batch_size = batch_size, epochs=epoch_size, verbose=1)\n",
    "time_end = time.time()\n",
    "print(\"fit cost time: %.2f s\"%(time_end - time_begin))"
   ]
  },
  {
   "cell_type": "code",
   "execution_count": 40,
   "metadata": {},
   "outputs": [
    {
     "data": {
      "text/plain": [
       "[nan]"
      ]
     },
     "execution_count": 40,
     "metadata": {},
     "output_type": "execute_result"
    }
   ],
   "source": [
    "history.history.get('loss')[-5:]"
   ]
  },
  {
   "cell_type": "code",
   "execution_count": 41,
   "metadata": {},
   "outputs": [
    {
     "data": {
      "text/plain": [
       "[<matplotlib.lines.Line2D at 0x7fb6ffd22700>]"
      ]
     },
     "execution_count": 41,
     "metadata": {},
     "output_type": "execute_result"
    },
    {
     "data": {
      "image/png": "[encoded data removed]",
      "text/plain": [
       "<Figure size 432x288 with 1 Axes>"
      ]
     },
     "metadata": {
      "needs_background": "light"
     },
     "output_type": "display_data"
    }
   ],
   "source": [
    "plt.plot(history.epoch, history.history.get('loss'))"
   ]
  },
  {
   "cell_type": "code",
   "execution_count": 57,
   "metadata": {
    "scrolled": true
   },
   "outputs": [
    {
     "data": {
      "text/plain": [
       "array([[[-0.39807338, -0.39537868,  0.26363229, ..., -0.39040291,\n",
       "         -0.43387452, -0.20569996],\n",
       "        [-0.39807338, -0.39537868,  0.26316144, ..., -0.37841449,\n",
       "         -0.37605538, -0.20462084],\n",
       "        [-0.39807338, -0.39537868,  0.26276395, ..., -0.2939434 ,\n",
       "         -0.29084703, -0.20504469],\n",
       "        ...,\n",
       "        [-0.39807338, -0.39537868,  0.26207748, ..., -0.28721754,\n",
       "         -0.32698963, -0.20164352],\n",
       "        [-0.39807338, -0.39537868,  0.26171447, ..., -0.16646312,\n",
       "         -0.19365901, -0.20052752],\n",
       "        [-0.39807338, -0.39537868,  0.26137222, ..., -0.2455864 ,\n",
       "         -0.30447069, -0.19938905]],\n",
       "\n",
       "       [[-0.39434865, -0.38915634,  0.29054649, ..., -0.39040291,\n",
       "         -0.43387452, -0.20569996],\n",
       "        [-0.39434865, -0.38915634,  0.29007565, ..., -0.37841449,\n",
       "         -0.37605538, -0.20462084],\n",
       "        [-0.39434865, -0.38915634,  0.28967815, ..., -0.2939434 ,\n",
       "         -0.29084703, -0.20504469],\n",
       "        ...,\n",
       "        [-0.39434865, -0.38915634,  0.28959852, ..., -0.28721754,\n",
       "         -0.32698963, -0.20164352],\n",
       "        [-0.39434865, -0.38915634,  0.28923563, ..., -0.16646312,\n",
       "         -0.19365901, -0.20052752],\n",
       "        [-0.39434865, -0.38915634,  0.28889338, ..., -0.2455864 ,\n",
       "         -0.30447069, -0.19938905]],\n",
       "\n",
       "       [[-0.39032299, -0.38361996,  0.25186537, ..., -0.39040291,\n",
       "         -0.43387452, -0.20569996],\n",
       "        [-0.39032299, -0.38361996,  0.25139453, ..., -0.37841449,\n",
       "         -0.37605538, -0.20462084],\n",
       "        [-0.39032299, -0.38361996,  0.25099703, ..., -0.2939434 ,\n",
       "         -0.29084703, -0.20504469],\n",
       "        ...,\n",
       "        [-0.39032299, -0.38361996,  0.25004526, ..., -0.28721754,\n",
       "         -0.32698963, -0.20164352],\n",
       "        [-0.39032299, -0.38361996,  0.24968219, ..., -0.16646312,\n",
       "         -0.19365901, -0.20052752],\n",
       "        [-0.39032299, -0.38361996,  0.24933994, ..., -0.2455864 ,\n",
       "         -0.30447069, -0.19938905]],\n",
       "\n",
       "       ...,\n",
       "\n",
       "       [[ 0.40475638,  0.59784136,  0.35162441, ..., -0.39040291,\n",
       "         -0.43387452, -0.20569996],\n",
       "        [ 0.40475638,  0.59784136,  0.35115356, ..., -0.37841449,\n",
       "         -0.37605538, -0.20462084],\n",
       "        [ 0.40475638,  0.59784136,  0.35075607, ..., -0.2939434 ,\n",
       "         -0.29084703, -0.20504469],\n",
       "        ...,\n",
       "        [ 0.40475638,  0.59784136,  0.35205355, ..., -0.28721754,\n",
       "         -0.32698963, -0.20164352],\n",
       "        [ 0.40475638,  0.59784136,  0.35169094, ..., -0.16646312,\n",
       "         -0.19365901, -0.20052752],\n",
       "        [ 0.40475638,  0.59784136,  0.35134869, ..., -0.2455864 ,\n",
       "         -0.30447069, -0.19938905]],\n",
       "\n",
       "       [[ 0.40734083,  0.60123134,  0.36036768, ..., -0.39040291,\n",
       "         -0.43387452, -0.20569996],\n",
       "        [ 0.40734083,  0.60123134,  0.35989684, ..., -0.37841449,\n",
       "         -0.37605538, -0.20462084],\n",
       "        [ 0.40734083,  0.60123134,  0.35949934, ..., -0.2939434 ,\n",
       "         -0.29084703, -0.20504469],\n",
       "        ...,\n",
       "        [ 0.40734083,  0.60123134,  0.36099396, ..., -0.28721754,\n",
       "         -0.32698963, -0.20164352],\n",
       "        [ 0.40734083,  0.60123134,  0.36063139, ..., -0.16646312,\n",
       "         -0.19365901, -0.20052752],\n",
       "        [ 0.40734083,  0.60123134,  0.36028914, ..., -0.2455864 ,\n",
       "         -0.30447069, -0.19938905]],\n",
       "\n",
       "       [[ 0.40985742,  0.60462132,  0.35554649, ..., -0.39040291,\n",
       "         -0.43387452, -0.20569996],\n",
       "        [ 0.40985742,  0.60462132,  0.35507565, ..., -0.37841449,\n",
       "         -0.37605538, -0.20462084],\n",
       "        [ 0.40985742,  0.60462132,  0.35467815, ..., -0.2939434 ,\n",
       "         -0.29084703, -0.20504469],\n",
       "        ...,\n",
       "        [ 0.40985742,  0.60462132,  0.35606406, ..., -0.28721754,\n",
       "         -0.32698963, -0.20164352],\n",
       "        [ 0.40985742,  0.60462132,  0.35570147, ..., -0.16646312,\n",
       "         -0.19365901, -0.20052752],\n",
       "        [ 0.40985742,  0.60462132,  0.35535922, ..., -0.2455864 ,\n",
       "         -0.30447069, -0.19938905]]])"
      ]
     },
     "execution_count": 57,
     "metadata": {},
     "output_type": "execute_result"
    }
   ],
   "source": [
    "test_x"
   ]
  },
  {
   "cell_type": "code",
   "execution_count": 56,
   "metadata": {},
   "outputs": [
    {
     "data": {
      "text/html": [
       "<div>\n",
       "<style scoped>\n",
       "    .dataframe tbody tr th:only-of-type {\n",
       "        vertical-align: middle;\n",
       "    }\n",
       "\n",
       "    .dataframe tbody tr th {\n",
       "        vertical-align: top;\n",
       "    }\n",
       "\n",
       "    .dataframe thead th {\n",
       "        text-align: right;\n",
       "    }\n",
       "</style>\n",
       "<table border=\"1\" class=\"dataframe\">\n",
       "  <thead>\n",
       "    <tr style=\"text-align: right;\">\n",
       "      <th></th>\n",
       "      <th>0</th>\n",
       "      <th>0</th>\n",
       "    </tr>\n",
       "  </thead>\n",
       "  <tbody>\n",
       "    <tr>\n",
       "      <th>0</th>\n",
       "      <td>NaN</td>\n",
       "      <td>20.538614</td>\n",
       "    </tr>\n",
       "    <tr>\n",
       "      <th>1</th>\n",
       "      <td>NaN</td>\n",
       "      <td>21.723602</td>\n",
       "    </tr>\n",
       "    <tr>\n",
       "      <th>2</th>\n",
       "      <td>NaN</td>\n",
       "      <td>20.020536</td>\n",
       "    </tr>\n",
       "    <tr>\n",
       "      <th>3</th>\n",
       "      <td>NaN</td>\n",
       "      <td>22.505301</td>\n",
       "    </tr>\n",
       "    <tr>\n",
       "      <th>4</th>\n",
       "      <td>NaN</td>\n",
       "      <td>24.735243</td>\n",
       "    </tr>\n",
       "    <tr>\n",
       "      <th>...</th>\n",
       "      <td>...</td>\n",
       "      <td>...</td>\n",
       "    </tr>\n",
       "    <tr>\n",
       "      <th>35995</th>\n",
       "      <td>NaN</td>\n",
       "      <td>24.382263</td>\n",
       "    </tr>\n",
       "    <tr>\n",
       "      <th>35996</th>\n",
       "      <td>NaN</td>\n",
       "      <td>24.036366</td>\n",
       "    </tr>\n",
       "    <tr>\n",
       "      <th>35997</th>\n",
       "      <td>NaN</td>\n",
       "      <td>24.412762</td>\n",
       "    </tr>\n",
       "    <tr>\n",
       "      <th>35998</th>\n",
       "      <td>NaN</td>\n",
       "      <td>24.797714</td>\n",
       "    </tr>\n",
       "    <tr>\n",
       "      <th>35999</th>\n",
       "      <td>NaN</td>\n",
       "      <td>24.585445</td>\n",
       "    </tr>\n",
       "  </tbody>\n",
       "</table>\n",
       "<p>36000 rows × 2 columns</p>\n",
       "</div>"
      ],
      "text/plain": [
       "        0          0\n",
       "0     NaN  20.538614\n",
       "1     NaN  21.723602\n",
       "2     NaN  20.020536\n",
       "3     NaN  22.505301\n",
       "4     NaN  24.735243\n",
       "...    ..        ...\n",
       "35995 NaN  24.382263\n",
       "35996 NaN  24.036366\n",
       "35997 NaN  24.412762\n",
       "35998 NaN  24.797714\n",
       "35999 NaN  24.585445\n",
       "\n",
       "[36000 rows x 2 columns]"
      ]
     },
     "execution_count": 56,
     "metadata": {},
     "output_type": "execute_result"
    }
   ],
   "source": [
    "result = model.predict(test_x, batch_size=batch_size)\n",
    "result = pd.DataFrame(result)\n",
    "result_y = pd.DataFrame(test_y)\n",
    "result = pd.concat([result,result_y],axis=1)\n",
    "result"
   ]
  },
  {
   "cell_type": "code",
   "execution_count": 44,
   "metadata": {},
   "outputs": [
    {
     "data": {
      "text/plain": [
       "array([20.538614, 21.723602, 20.020536, ..., 24.412762, 24.797714,\n",
       "       24.585445])"
      ]
     },
     "execution_count": 44,
     "metadata": {},
     "output_type": "execute_result"
    }
   ],
   "source": [
    "test_y"
   ]
  },
  {
   "cell_type": "code",
   "execution_count": 45,
   "metadata": {},
   "outputs": [
    {
     "name": "stdout",
     "output_type": "stream",
     "text": [
      "1125/1125 [==============================] - 2s 2ms/step - loss: nan\n",
      "nan\n"
     ]
    }
   ],
   "source": [
    "evaluate_result = model.evaluate(test_x,test_y)\n",
    "print(evaluate_result)"
   ]
  },
  {
   "cell_type": "code",
   "execution_count": null,
   "metadata": {},
   "outputs": [],
   "source": [
    "\n"
   ]
  },
  {
   "cell_type": "code",
   "execution_count": 54,
   "metadata": {},
   "outputs": [
    {
     "name": "stdout",
     "output_type": "stream",
     "text": [
      "       0          0\n",
      "8630 NaN  -3.184303\n",
      "8631 NaN  -3.526288\n",
      "8632 NaN  -4.117174\n",
      "8633 NaN  -4.754453\n",
      "8634 NaN  -5.308677\n",
      "8635 NaN  -5.832083\n",
      "8636 NaN  -6.282992\n",
      "8637 NaN  -6.463263\n",
      "8638 NaN  -5.585868\n",
      "8639 NaN  -0.575524\n",
      "8640 NaN   8.833398\n",
      "8641 NaN   9.258107\n",
      "8642 NaN   8.956196\n",
      "8643 NaN   7.747399\n",
      "8644 NaN   6.524829\n",
      "8645 NaN   5.738035\n",
      "8646 NaN   5.336702\n",
      "8647 NaN   5.275166\n",
      "8648 NaN   5.385376\n",
      "8649 NaN   5.615054\n",
      "8650 NaN   5.964448\n",
      "8651 NaN   6.373296\n",
      "8652 NaN   6.789522\n",
      "8653 NaN   7.196412\n",
      "8654 NaN   7.590178\n",
      "8655 NaN   7.959760\n",
      "8656 NaN   8.283836\n",
      "8657 NaN   8.535892\n",
      "8658 NaN   8.904062\n",
      "8659 NaN   9.242686\n",
      "8660 NaN   9.522832\n",
      "8661 NaN   9.482802\n",
      "8662 NaN   8.791049\n",
      "8663 NaN  11.048597\n",
      "8664 NaN  11.403473\n",
      "8665 NaN  11.968417\n",
      "8666 NaN  12.337642\n",
      "8667 NaN  13.138453\n",
      "8668 NaN  13.254626\n",
      "8669 NaN  13.762703\n"
     ]
    }
   ],
   "source": [
    "result_save = pd.DataFrame(result)\n",
    "result_save.to_csv(DIR_ROOT + str(epoch_size) + \"SandWaterLSTMTest.csv\")\n",
    "print(result_save[8630:8670])"
   ]
  },
  {
   "cell_type": "code",
   "execution_count": null,
   "metadata": {},
   "outputs": [],
   "source": []
  },
  {
   "cell_type": "code",
   "execution_count": null,
   "metadata": {},
   "outputs": [],
   "source": []
  },
  {
   "cell_type": "code",
   "execution_count": null,
   "metadata": {},
   "outputs": [],
   "source": []
  },
  {
   "cell_type": "code",
   "execution_count": null,
   "metadata": {},
   "outputs": [],
   "source": []
  }
 ],
 "metadata": {
  "kernelspec": {
   "display_name": "Python 3",
   "language": "python",
   "name": "python3"
  },
  "language_info": {
   "codemirror_mode": {
    "name": "ipython",
    "version": 3
   },
   "file_extension": ".py",
   "mimetype": "text/x-python",
   "name": "python",
   "nbconvert_exporter": "python",
   "pygments_lexer": "ipython3",
   "version": "3.8.3"
  }
 },
 "nbformat": 4,
 "nbformat_minor": 4
}
