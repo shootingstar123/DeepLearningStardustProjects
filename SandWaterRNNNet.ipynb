{
 "cells": [
  {
   "cell_type": "code",
   "execution_count": 41,
   "metadata": {},
   "outputs": [],
   "source": [
    "import tensorflow as tf\n",
    "import pandas as pd\n",
    "import numpy as np\n",
    "import matplotlib.pyplot as plt\n",
    "from tensorflow.keras import layers\n",
    "import time\n",
    "# %matplotlib inline"
   ]
  },
  {
   "cell_type": "code",
   "execution_count": 43,
   "metadata": {},
   "outputs": [],
   "source": [
    "# import argparse\n",
    "# parser = argparse.ArgumentParser(description='manual to this script')\n",
    "# parser.add_argument('--epoch_size',type=int,default=10)\n",
    "# parser.add_argument('--batch_size',type=int,default=360)\n",
    "# args = parser.parse_args()\n",
    "# epoch_size = args.epoch_size\n",
    "# batch_size = args.batch_size\n",
    "# print(\"epoch=%s,batch_size=%s\"%(epoch_size,batch_size))"
   ]
  },
  {
   "cell_type": "code",
   "execution_count": 44,
   "metadata": {},
   "outputs": [],
   "source": [
    "months=13\n",
    "DIR_ROOT = \"/Users/stardust/StardustJavaProjects/JavaTest\";"
   ]
  },
  {
   "cell_type": "code",
   "execution_count": 45,
   "metadata": {},
   "outputs": [],
   "source": [
    "data_bed = []\n",
    "for i in range(1,months+1):\n",
    "    data_ = pd.read_csv(DIR_ROOT + \"/{}bed_level.txt.csv\".format(i),header=None)\n",
    "    data_.columns = ['x','y','bed_level']\n",
    "    data_bed.append(data_)"
   ]
  },
  {
   "cell_type": "code",
   "execution_count": 46,
   "metadata": {},
   "outputs": [
    {
     "data": {
      "text/plain": [
       "13"
      ]
     },
     "execution_count": 46,
     "metadata": {},
     "output_type": "execute_result"
    }
   ],
   "source": [
    "len(data_bed)"
   ]
  },
  {
   "cell_type": "code",
   "execution_count": 47,
   "metadata": {},
   "outputs": [
    {
     "data": {
      "text/html": [
       "<div>\n",
       "<style scoped>\n",
       "    .dataframe tbody tr th:only-of-type {\n",
       "        vertical-align: middle;\n",
       "    }\n",
       "\n",
       "    .dataframe tbody tr th {\n",
       "        vertical-align: top;\n",
       "    }\n",
       "\n",
       "    .dataframe thead th {\n",
       "        text-align: right;\n",
       "    }\n",
       "</style>\n",
       "<table border=\"1\" class=\"dataframe\">\n",
       "  <thead>\n",
       "    <tr style=\"text-align: right;\">\n",
       "      <th></th>\n",
       "      <th>x</th>\n",
       "      <th>y</th>\n",
       "      <th>bed_level</th>\n",
       "    </tr>\n",
       "  </thead>\n",
       "  <tbody>\n",
       "    <tr>\n",
       "      <th>0</th>\n",
       "      <td>518693.195313</td>\n",
       "      <td>3.368709e+06</td>\n",
       "      <td>20.538614</td>\n",
       "    </tr>\n",
       "    <tr>\n",
       "      <th>1</th>\n",
       "      <td>518732.648438</td>\n",
       "      <td>3.368797e+06</td>\n",
       "      <td>21.723602</td>\n",
       "    </tr>\n",
       "    <tr>\n",
       "      <th>2</th>\n",
       "      <td>518775.289063</td>\n",
       "      <td>3.368875e+06</td>\n",
       "      <td>20.020536</td>\n",
       "    </tr>\n",
       "    <tr>\n",
       "      <th>3</th>\n",
       "      <td>518825.367188</td>\n",
       "      <td>3.368948e+06</td>\n",
       "      <td>22.505301</td>\n",
       "    </tr>\n",
       "    <tr>\n",
       "      <th>4</th>\n",
       "      <td>518882.789063</td>\n",
       "      <td>3.369016e+06</td>\n",
       "      <td>24.735243</td>\n",
       "    </tr>\n",
       "    <tr>\n",
       "      <th>...</th>\n",
       "      <td>...</td>\n",
       "      <td>...</td>\n",
       "      <td>...</td>\n",
       "    </tr>\n",
       "    <tr>\n",
       "      <th>35995</th>\n",
       "      <td>527137.609375</td>\n",
       "      <td>3.382640e+06</td>\n",
       "      <td>24.382263</td>\n",
       "    </tr>\n",
       "    <tr>\n",
       "      <th>35996</th>\n",
       "      <td>527168.234375</td>\n",
       "      <td>3.382688e+06</td>\n",
       "      <td>24.036366</td>\n",
       "    </tr>\n",
       "    <tr>\n",
       "      <th>35997</th>\n",
       "      <td>527196.937500</td>\n",
       "      <td>3.382736e+06</td>\n",
       "      <td>24.412762</td>\n",
       "    </tr>\n",
       "    <tr>\n",
       "      <th>35998</th>\n",
       "      <td>527224.312500</td>\n",
       "      <td>3.382784e+06</td>\n",
       "      <td>24.797714</td>\n",
       "    </tr>\n",
       "    <tr>\n",
       "      <th>35999</th>\n",
       "      <td>527250.968750</td>\n",
       "      <td>3.382832e+06</td>\n",
       "      <td>24.585445</td>\n",
       "    </tr>\n",
       "  </tbody>\n",
       "</table>\n",
       "<p>36000 rows × 3 columns</p>\n",
       "</div>"
      ],
      "text/plain": [
       "                   x             y  bed_level\n",
       "0      518693.195313  3.368709e+06  20.538614\n",
       "1      518732.648438  3.368797e+06  21.723602\n",
       "2      518775.289063  3.368875e+06  20.020536\n",
       "3      518825.367188  3.368948e+06  22.505301\n",
       "4      518882.789063  3.369016e+06  24.735243\n",
       "...              ...           ...        ...\n",
       "35995  527137.609375  3.382640e+06  24.382263\n",
       "35996  527168.234375  3.382688e+06  24.036366\n",
       "35997  527196.937500  3.382736e+06  24.412762\n",
       "35998  527224.312500  3.382784e+06  24.797714\n",
       "35999  527250.968750  3.382832e+06  24.585445\n",
       "\n",
       "[36000 rows x 3 columns]"
      ]
     },
     "execution_count": 47,
     "metadata": {},
     "output_type": "execute_result"
    }
   ],
   "source": [
    "data_bed[12]"
   ]
  },
  {
   "cell_type": "code",
   "execution_count": 48,
   "metadata": {},
   "outputs": [
    {
     "data": {
      "text/plain": [
       "[                   x             y  bed_level\n",
       " 30100  522042.382813  3.373878e+06   1.290496\n",
       " 30101  522061.484375  3.373906e+06   1.910207\n",
       " 30102  522081.414063  3.373936e+06   2.595494,\n",
       "                    x             y  bed_level\n",
       " 30103  522102.250000  3.373968e+06   3.270399\n",
       " 30104  522124.039063  3.374001e+06   3.694517\n",
       " 30105  522146.820313  3.374036e+06   3.781859]"
      ]
     },
     "execution_count": 48,
     "metadata": {},
     "output_type": "execute_result"
    }
   ],
   "source": [
    "data_ = []\n",
    "data_.append(data_bed[4].iloc[30100:30103])\n",
    "data_.append(data_bed[4].iloc[30103:30106])\n",
    "data_"
   ]
  },
  {
   "cell_type": "code",
   "execution_count": 49,
   "metadata": {},
   "outputs": [
    {
     "data": {
      "text/plain": [
       "<function list.count(value, /)>"
      ]
     },
     "execution_count": 49,
     "metadata": {},
     "output_type": "execute_result"
    }
   ],
   "source": [
    "data_bed.count"
   ]
  },
  {
   "cell_type": "code",
   "execution_count": 50,
   "metadata": {},
   "outputs": [
    {
     "data": {
      "text/html": [
       "<div>\n",
       "<style scoped>\n",
       "    .dataframe tbody tr th:only-of-type {\n",
       "        vertical-align: middle;\n",
       "    }\n",
       "\n",
       "    .dataframe tbody tr th {\n",
       "        vertical-align: top;\n",
       "    }\n",
       "\n",
       "    .dataframe thead th {\n",
       "        text-align: right;\n",
       "    }\n",
       "</style>\n",
       "<table border=\"1\" class=\"dataframe\">\n",
       "  <thead>\n",
       "    <tr style=\"text-align: right;\">\n",
       "      <th></th>\n",
       "      <th>x</th>\n",
       "      <th>y</th>\n",
       "      <th>sand_z</th>\n",
       "      <th>concentration</th>\n",
       "    </tr>\n",
       "  </thead>\n",
       "  <tbody>\n",
       "    <tr>\n",
       "      <th>30100</th>\n",
       "      <td>522042.382813</td>\n",
       "      <td>3.373878e+06</td>\n",
       "      <td>6.676435</td>\n",
       "      <td>0.009027</td>\n",
       "    </tr>\n",
       "    <tr>\n",
       "      <th>30101</th>\n",
       "      <td>522061.484375</td>\n",
       "      <td>3.373906e+06</td>\n",
       "      <td>6.985826</td>\n",
       "      <td>0.011448</td>\n",
       "    </tr>\n",
       "    <tr>\n",
       "      <th>30102</th>\n",
       "      <td>522081.414063</td>\n",
       "      <td>3.373936e+06</td>\n",
       "      <td>7.327604</td>\n",
       "      <td>0.015275</td>\n",
       "    </tr>\n",
       "    <tr>\n",
       "      <th>30103</th>\n",
       "      <td>522102.250000</td>\n",
       "      <td>3.373968e+06</td>\n",
       "      <td>7.663913</td>\n",
       "      <td>0.021059</td>\n",
       "    </tr>\n",
       "    <tr>\n",
       "      <th>30104</th>\n",
       "      <td>522124.039063</td>\n",
       "      <td>3.374001e+06</td>\n",
       "      <td>7.874988</td>\n",
       "      <td>0.025316</td>\n",
       "    </tr>\n",
       "    <tr>\n",
       "      <th>...</th>\n",
       "      <td>...</td>\n",
       "      <td>...</td>\n",
       "      <td>...</td>\n",
       "      <td>...</td>\n",
       "    </tr>\n",
       "    <tr>\n",
       "      <th>30195</th>\n",
       "      <td>526429.359375</td>\n",
       "      <td>3.380550e+06</td>\n",
       "      <td>8.695766</td>\n",
       "      <td>0.001340</td>\n",
       "    </tr>\n",
       "    <tr>\n",
       "      <th>30196</th>\n",
       "      <td>526444.468750</td>\n",
       "      <td>3.380588e+06</td>\n",
       "      <td>8.839143</td>\n",
       "      <td>0.001267</td>\n",
       "    </tr>\n",
       "    <tr>\n",
       "      <th>30197</th>\n",
       "      <td>526459.171875</td>\n",
       "      <td>3.380626e+06</td>\n",
       "      <td>9.053247</td>\n",
       "      <td>0.001326</td>\n",
       "    </tr>\n",
       "    <tr>\n",
       "      <th>30198</th>\n",
       "      <td>526473.546875</td>\n",
       "      <td>3.380663e+06</td>\n",
       "      <td>9.320088</td>\n",
       "      <td>0.001703</td>\n",
       "    </tr>\n",
       "    <tr>\n",
       "      <th>30199</th>\n",
       "      <td>526487.656250</td>\n",
       "      <td>3.380699e+06</td>\n",
       "      <td>9.685407</td>\n",
       "      <td>0.003427</td>\n",
       "    </tr>\n",
       "  </tbody>\n",
       "</table>\n",
       "<p>100 rows × 4 columns</p>\n",
       "</div>"
      ],
      "text/plain": [
       "                   x             y    sand_z  concentration\n",
       "30100  522042.382813  3.373878e+06  6.676435       0.009027\n",
       "30101  522061.484375  3.373906e+06  6.985826       0.011448\n",
       "30102  522081.414063  3.373936e+06  7.327604       0.015275\n",
       "30103  522102.250000  3.373968e+06  7.663913       0.021059\n",
       "30104  522124.039063  3.374001e+06  7.874988       0.025316\n",
       "...              ...           ...       ...            ...\n",
       "30195  526429.359375  3.380550e+06  8.695766       0.001340\n",
       "30196  526444.468750  3.380588e+06  8.839143       0.001267\n",
       "30197  526459.171875  3.380626e+06  9.053247       0.001326\n",
       "30198  526473.546875  3.380663e+06  9.320088       0.001703\n",
       "30199  526487.656250  3.380699e+06  9.685407       0.003427\n",
       "\n",
       "[100 rows x 4 columns]"
      ]
     },
     "execution_count": 50,
     "metadata": {},
     "output_type": "execute_result"
    }
   ],
   "source": [
    "data_sedmiment = []\n",
    "for i in range(1,months+1):\n",
    "    data_ = pd.read_csv(DIR_ROOT + \"/{}sediment_concentration.xyz.csv\".format(i),header=None)\n",
    "    data_.columns = ['x','y','sand_z','concentration']\n",
    "    data_sedmiment.append(data_)\n",
    "data_sedmiment[4].iloc[30100:30200,:]"
   ]
  },
  {
   "cell_type": "code",
   "execution_count": 51,
   "metadata": {},
   "outputs": [
    {
     "data": {
      "text/plain": [
       "<bound method DataFrame.count of                    x             y     sand_z  concentration\n",
       "0      518693.195313  3.368709e+06  20.538614            0.0\n",
       "1      518732.648438  3.368797e+06  21.723602            0.0\n",
       "2      518775.289063  3.368875e+06  20.020536            0.0\n",
       "3      518825.367188  3.368948e+06  22.505301            0.0\n",
       "4      518882.789063  3.369016e+06  24.735243            0.0\n",
       "...              ...           ...        ...            ...\n",
       "35995  527137.609375  3.382640e+06  24.382263            0.0\n",
       "35996  527168.234375  3.382688e+06  24.036366            0.0\n",
       "35997  527196.937500  3.382736e+06  24.412762            0.0\n",
       "35998  527224.312500  3.382784e+06  24.797714            0.0\n",
       "35999  527250.968750  3.382832e+06  24.585445            0.0\n",
       "\n",
       "[36000 rows x 4 columns]>"
      ]
     },
     "execution_count": 51,
     "metadata": {},
     "output_type": "execute_result"
    }
   ],
   "source": [
    "data_sedmiment[4].count"
   ]
  },
  {
   "cell_type": "code",
   "execution_count": 52,
   "metadata": {},
   "outputs": [
    {
     "data": {
      "text/html": [
       "<div>\n",
       "<style scoped>\n",
       "    .dataframe tbody tr th:only-of-type {\n",
       "        vertical-align: middle;\n",
       "    }\n",
       "\n",
       "    .dataframe tbody tr th {\n",
       "        vertical-align: top;\n",
       "    }\n",
       "\n",
       "    .dataframe thead th {\n",
       "        text-align: right;\n",
       "    }\n",
       "</style>\n",
       "<table border=\"1\" class=\"dataframe\">\n",
       "  <thead>\n",
       "    <tr style=\"text-align: right;\">\n",
       "      <th></th>\n",
       "      <th>x</th>\n",
       "      <th>y</th>\n",
       "      <th>x_velocity</th>\n",
       "      <th>y_velocity</th>\n",
       "      <th>xy_velocity</th>\n",
       "    </tr>\n",
       "  </thead>\n",
       "  <tbody>\n",
       "    <tr>\n",
       "      <th>30100</th>\n",
       "      <td>522042.382813</td>\n",
       "      <td>3.373878e+06</td>\n",
       "      <td>0.397100</td>\n",
       "      <td>0.496184</td>\n",
       "      <td>0.635521</td>\n",
       "    </tr>\n",
       "    <tr>\n",
       "      <th>30101</th>\n",
       "      <td>522061.484375</td>\n",
       "      <td>3.373906e+06</td>\n",
       "      <td>0.404101</td>\n",
       "      <td>0.503862</td>\n",
       "      <td>0.645890</td>\n",
       "    </tr>\n",
       "    <tr>\n",
       "      <th>30102</th>\n",
       "      <td>522081.414063</td>\n",
       "      <td>3.373936e+06</td>\n",
       "      <td>0.414820</td>\n",
       "      <td>0.513693</td>\n",
       "      <td>0.660269</td>\n",
       "    </tr>\n",
       "    <tr>\n",
       "      <th>30103</th>\n",
       "      <td>522102.250000</td>\n",
       "      <td>3.373968e+06</td>\n",
       "      <td>0.426268</td>\n",
       "      <td>0.519740</td>\n",
       "      <td>0.672186</td>\n",
       "    </tr>\n",
       "    <tr>\n",
       "      <th>30104</th>\n",
       "      <td>522124.039063</td>\n",
       "      <td>3.374001e+06</td>\n",
       "      <td>0.430343</td>\n",
       "      <td>0.520641</td>\n",
       "      <td>0.675471</td>\n",
       "    </tr>\n",
       "    <tr>\n",
       "      <th>...</th>\n",
       "      <td>...</td>\n",
       "      <td>...</td>\n",
       "      <td>...</td>\n",
       "      <td>...</td>\n",
       "      <td>...</td>\n",
       "    </tr>\n",
       "    <tr>\n",
       "      <th>30195</th>\n",
       "      <td>526429.359375</td>\n",
       "      <td>3.380550e+06</td>\n",
       "      <td>0.310145</td>\n",
       "      <td>0.348087</td>\n",
       "      <td>0.466213</td>\n",
       "    </tr>\n",
       "    <tr>\n",
       "      <th>30196</th>\n",
       "      <td>526444.468750</td>\n",
       "      <td>3.380588e+06</td>\n",
       "      <td>0.292949</td>\n",
       "      <td>0.353607</td>\n",
       "      <td>0.459192</td>\n",
       "    </tr>\n",
       "    <tr>\n",
       "      <th>30197</th>\n",
       "      <td>526459.171875</td>\n",
       "      <td>3.380626e+06</td>\n",
       "      <td>0.276159</td>\n",
       "      <td>0.366597</td>\n",
       "      <td>0.458974</td>\n",
       "    </tr>\n",
       "    <tr>\n",
       "      <th>30198</th>\n",
       "      <td>526473.546875</td>\n",
       "      <td>3.380663e+06</td>\n",
       "      <td>0.267360</td>\n",
       "      <td>0.382961</td>\n",
       "      <td>0.467055</td>\n",
       "    </tr>\n",
       "    <tr>\n",
       "      <th>30199</th>\n",
       "      <td>526487.656250</td>\n",
       "      <td>3.380699e+06</td>\n",
       "      <td>0.263471</td>\n",
       "      <td>0.397892</td>\n",
       "      <td>0.477216</td>\n",
       "    </tr>\n",
       "  </tbody>\n",
       "</table>\n",
       "<p>100 rows × 5 columns</p>\n",
       "</div>"
      ],
      "text/plain": [
       "                   x             y  x_velocity  y_velocity  xy_velocity\n",
       "30100  522042.382813  3.373878e+06    0.397100    0.496184     0.635521\n",
       "30101  522061.484375  3.373906e+06    0.404101    0.503862     0.645890\n",
       "30102  522081.414063  3.373936e+06    0.414820    0.513693     0.660269\n",
       "30103  522102.250000  3.373968e+06    0.426268    0.519740     0.672186\n",
       "30104  522124.039063  3.374001e+06    0.430343    0.520641     0.675471\n",
       "...              ...           ...         ...         ...          ...\n",
       "30195  526429.359375  3.380550e+06    0.310145    0.348087     0.466213\n",
       "30196  526444.468750  3.380588e+06    0.292949    0.353607     0.459192\n",
       "30197  526459.171875  3.380626e+06    0.276159    0.366597     0.458974\n",
       "30198  526473.546875  3.380663e+06    0.267360    0.382961     0.467055\n",
       "30199  526487.656250  3.380699e+06    0.263471    0.397892     0.477216\n",
       "\n",
       "[100 rows x 5 columns]"
      ]
     },
     "execution_count": 52,
     "metadata": {},
     "output_type": "execute_result"
    }
   ],
   "source": [
    "data_velocity = []\n",
    "for i in range(1,months+1):\n",
    "    data_ = pd.read_csv(DIR_ROOT + \"/{}velocity.xyz.csv\".format(i),header=None)\n",
    "    data_.columns = ['x','y','x_velocity','y_velocity','xy_velocity']\n",
    "    data_velocity.append(data_)\n",
    "data_velocity[4].iloc[30100:30200,:]"
   ]
  },
  {
   "cell_type": "code",
   "execution_count": 53,
   "metadata": {},
   "outputs": [
    {
     "data": {
      "text/html": [
       "<div>\n",
       "<style scoped>\n",
       "    .dataframe tbody tr th:only-of-type {\n",
       "        vertical-align: middle;\n",
       "    }\n",
       "\n",
       "    .dataframe tbody tr th {\n",
       "        vertical-align: top;\n",
       "    }\n",
       "\n",
       "    .dataframe thead th {\n",
       "        text-align: right;\n",
       "    }\n",
       "</style>\n",
       "<table border=\"1\" class=\"dataframe\">\n",
       "  <thead>\n",
       "    <tr style=\"text-align: right;\">\n",
       "      <th></th>\n",
       "      <th>x</th>\n",
       "      <th>y</th>\n",
       "      <th>water_depth</th>\n",
       "    </tr>\n",
       "  </thead>\n",
       "  <tbody>\n",
       "    <tr>\n",
       "      <th>30100</th>\n",
       "      <td>522042.382813</td>\n",
       "      <td>3.373878e+06</td>\n",
       "      <td>10.771878</td>\n",
       "    </tr>\n",
       "    <tr>\n",
       "      <th>30101</th>\n",
       "      <td>522061.484375</td>\n",
       "      <td>3.373906e+06</td>\n",
       "      <td>10.151239</td>\n",
       "    </tr>\n",
       "    <tr>\n",
       "      <th>30102</th>\n",
       "      <td>522081.414063</td>\n",
       "      <td>3.373936e+06</td>\n",
       "      <td>9.464220</td>\n",
       "    </tr>\n",
       "    <tr>\n",
       "      <th>30103</th>\n",
       "      <td>522102.250000</td>\n",
       "      <td>3.373968e+06</td>\n",
       "      <td>8.787028</td>\n",
       "    </tr>\n",
       "    <tr>\n",
       "      <th>30104</th>\n",
       "      <td>522124.039063</td>\n",
       "      <td>3.374001e+06</td>\n",
       "      <td>8.360943</td>\n",
       "    </tr>\n",
       "    <tr>\n",
       "      <th>...</th>\n",
       "      <td>...</td>\n",
       "      <td>...</td>\n",
       "      <td>...</td>\n",
       "    </tr>\n",
       "    <tr>\n",
       "      <th>30195</th>\n",
       "      <td>526429.359375</td>\n",
       "      <td>3.380550e+06</td>\n",
       "      <td>6.401565</td>\n",
       "    </tr>\n",
       "    <tr>\n",
       "      <th>30196</th>\n",
       "      <td>526444.468750</td>\n",
       "      <td>3.380588e+06</td>\n",
       "      <td>6.114544</td>\n",
       "    </tr>\n",
       "    <tr>\n",
       "      <th>30197</th>\n",
       "      <td>526459.171875</td>\n",
       "      <td>3.380626e+06</td>\n",
       "      <td>5.685476</td>\n",
       "    </tr>\n",
       "    <tr>\n",
       "      <th>30198</th>\n",
       "      <td>526473.546875</td>\n",
       "      <td>3.380663e+06</td>\n",
       "      <td>5.149618</td>\n",
       "    </tr>\n",
       "    <tr>\n",
       "      <th>30199</th>\n",
       "      <td>526487.656250</td>\n",
       "      <td>3.380699e+06</td>\n",
       "      <td>4.415122</td>\n",
       "    </tr>\n",
       "  </tbody>\n",
       "</table>\n",
       "<p>100 rows × 3 columns</p>\n",
       "</div>"
      ],
      "text/plain": [
       "                   x             y  water_depth\n",
       "30100  522042.382813  3.373878e+06    10.771878\n",
       "30101  522061.484375  3.373906e+06    10.151239\n",
       "30102  522081.414063  3.373936e+06     9.464220\n",
       "30103  522102.250000  3.373968e+06     8.787028\n",
       "30104  522124.039063  3.374001e+06     8.360943\n",
       "...              ...           ...          ...\n",
       "30195  526429.359375  3.380550e+06     6.401565\n",
       "30196  526444.468750  3.380588e+06     6.114544\n",
       "30197  526459.171875  3.380626e+06     5.685476\n",
       "30198  526473.546875  3.380663e+06     5.149618\n",
       "30199  526487.656250  3.380699e+06     4.415122\n",
       "\n",
       "[100 rows x 3 columns]"
      ]
     },
     "execution_count": 53,
     "metadata": {},
     "output_type": "execute_result"
    }
   ],
   "source": [
    "data_water_depth = []\n",
    "for i in range(1,months+1):\n",
    "    data_ = pd.read_csv(DIR_ROOT + \"/{}water_depth.xyz.csv\".format(i),header=None)\n",
    "    data_.columns = ['x','y','water_depth']\n",
    "    data_water_depth.append(data_)\n",
    "data_water_depth[4].iloc[30100:30200,:]"
   ]
  },
  {
   "cell_type": "code",
   "execution_count": 54,
   "metadata": {},
   "outputs": [
    {
     "data": {
      "text/plain": [
       "<matplotlib.collections.PathCollection at 0x7f975f1fc970>"
      ]
     },
     "execution_count": 54,
     "metadata": {},
     "output_type": "execute_result"
    },
    {
     "data": {
      "image/png": "[encoded data removed]",
      "text/plain": [
       "<Figure size 432x288 with 1 Axes>"
      ]
     },
     "metadata": {
      "needs_background": "light"
     },
     "output_type": "display_data"
    }
   ],
   "source": [
    "plt.scatter(data_bed[4].iloc[:,2],data_sedmiment[4].iloc[:,3])"
   ]
  },
  {
   "cell_type": "code",
   "execution_count": 55,
   "metadata": {},
   "outputs": [
    {
     "data": {
      "text/plain": [
       "<matplotlib.collections.PathCollection at 0x7f975f1a4d90>"
      ]
     },
     "execution_count": 55,
     "metadata": {},
     "output_type": "execute_result"
    },
    {
     "data": {
      "image/png": "[encoded data removed]",
      "text/plain": [
       "<Figure size 432x288 with 1 Axes>"
      ]
     },
     "metadata": {
      "needs_background": "light"
     },
     "output_type": "display_data"
    }
   ],
   "source": [
    "plt.scatter(data_bed[4].iloc[:,2],data_velocity[4].iloc[:,4])"
   ]
  },
  {
   "cell_type": "code",
   "execution_count": 56,
   "metadata": {},
   "outputs": [
    {
     "data": {
      "text/plain": [
       "0    0.0\n",
       "1    0.0\n",
       "2    0.0\n",
       "Name: concentration, dtype: float64"
      ]
     },
     "execution_count": 56,
     "metadata": {},
     "output_type": "execute_result"
    }
   ],
   "source": [
    "data_sedmiment[4].iloc[0:3,3]"
   ]
  },
  {
   "cell_type": "code",
   "execution_count": 57,
   "metadata": {},
   "outputs": [
    {
     "data": {
      "text/plain": [
       "0    20.538614\n",
       "1    21.723602\n",
       "2    20.020536\n",
       "Name: bed_level, dtype: float64"
      ]
     },
     "execution_count": 57,
     "metadata": {},
     "output_type": "execute_result"
    }
   ],
   "source": [
    "data_bed[4].iloc[0:3,2]"
   ]
  },
  {
   "cell_type": "code",
   "execution_count": 58,
   "metadata": {},
   "outputs": [
    {
     "name": "stdout",
     "output_type": "stream",
     "text": [
      "0\n",
      "1\n",
      "2\n",
      "3\n",
      "4\n",
      "5\n",
      "6\n",
      "7\n",
      "8\n",
      "9\n",
      "10\n",
      "11\n",
      "12\n"
     ]
    }
   ],
   "source": [
    "data_all = []\n",
    "for i in range(0,months):\n",
    "    print(i)\n",
    "    data_ = pd.concat([data_bed[i],data_sedmiment[i].iloc[:,2:4],data_velocity[i].iloc[:,2:5],data_water_depth[i].iloc[:,2]],axis=1)\n",
    "    data_all.append(data_)"
   ]
  },
  {
   "cell_type": "code",
   "execution_count": 59,
   "metadata": {},
   "outputs": [
    {
     "data": {
      "text/plain": [
       "[                   x             y  bed_level     sand_z  concentration  \\\n",
       " 0      518693.195313  3.368709e+06  20.538614  20.538614            0.0   \n",
       " 1      518732.648438  3.368797e+06  21.723602  21.723602            0.0   \n",
       " 2      518775.289063  3.368875e+06  20.020536  20.020536            0.0   \n",
       " 3      518825.367188  3.368948e+06  22.505301  22.505301            0.0   \n",
       " 4      518882.789063  3.369016e+06  24.735243  24.735243            0.0   \n",
       " ...              ...           ...        ...        ...            ...   \n",
       " 35995  527137.609375  3.382640e+06  24.382263  24.382263            0.0   \n",
       " 35996  527168.234375  3.382688e+06  24.036366  24.036366            0.0   \n",
       " 35997  527196.937500  3.382736e+06  24.412762  24.412762            0.0   \n",
       " 35998  527224.312500  3.382784e+06  24.797714  24.797714            0.0   \n",
       " 35999  527250.968750  3.382832e+06  24.585445  24.585445            0.0   \n",
       " \n",
       "        x_velocity  y_velocity  xy_velocity  water_depth  \n",
       " 0             0.0         0.0          0.0          0.0  \n",
       " 1             0.0         0.0          0.0          0.0  \n",
       " 2             0.0         0.0          0.0          0.0  \n",
       " 3             0.0         0.0          0.0          0.0  \n",
       " 4             0.0         0.0          0.0          0.0  \n",
       " ...           ...         ...          ...          ...  \n",
       " 35995         0.0         0.0          0.0          0.0  \n",
       " 35996         0.0         0.0          0.0          0.0  \n",
       " 35997         0.0         0.0          0.0          0.0  \n",
       " 35998         0.0         0.0          0.0          0.0  \n",
       " 35999         0.0         0.0          0.0          0.0  \n",
       " \n",
       " [36000 rows x 9 columns],\n",
       "                    x             y  bed_level     sand_z  concentration  \\\n",
       " 0      518693.195313  3.368709e+06  20.538614  20.538614            0.0   \n",
       " 1      518732.648438  3.368797e+06  21.723602  21.723602            0.0   \n",
       " 2      518775.289063  3.368875e+06  20.020536  20.020536            0.0   \n",
       " 3      518825.367188  3.368948e+06  22.505301  22.505301            0.0   \n",
       " 4      518882.789063  3.369016e+06  24.735243  24.735243            0.0   \n",
       " ...              ...           ...        ...        ...            ...   \n",
       " 35995  527137.609375  3.382640e+06  24.382263  24.382263            0.0   \n",
       " 35996  527168.234375  3.382688e+06  24.036366  24.036366            0.0   \n",
       " 35997  527196.937500  3.382736e+06  24.412762  24.412762            0.0   \n",
       " 35998  527224.312500  3.382784e+06  24.797714  24.797714            0.0   \n",
       " 35999  527250.968750  3.382832e+06  24.585445  24.585445            0.0   \n",
       " \n",
       "        x_velocity  y_velocity  xy_velocity  water_depth  \n",
       " 0             0.0         0.0          0.0          0.0  \n",
       " 1             0.0         0.0          0.0          0.0  \n",
       " 2             0.0         0.0          0.0          0.0  \n",
       " 3             0.0         0.0          0.0          0.0  \n",
       " 4             0.0         0.0          0.0          0.0  \n",
       " ...           ...         ...          ...          ...  \n",
       " 35995         0.0         0.0          0.0          0.0  \n",
       " 35996         0.0         0.0          0.0          0.0  \n",
       " 35997         0.0         0.0          0.0          0.0  \n",
       " 35998         0.0         0.0          0.0          0.0  \n",
       " 35999         0.0         0.0          0.0          0.0  \n",
       " \n",
       " [36000 rows x 9 columns],\n",
       "                    x             y  bed_level     sand_z  concentration  \\\n",
       " 0      518693.195313  3.368709e+06  20.538614  20.538614            0.0   \n",
       " 1      518732.648438  3.368797e+06  21.723602  21.723602            0.0   \n",
       " 2      518775.289063  3.368875e+06  20.020536  20.020536            0.0   \n",
       " 3      518825.367188  3.368948e+06  22.505301  22.505301            0.0   \n",
       " 4      518882.789063  3.369016e+06  24.735243  24.735243            0.0   \n",
       " ...              ...           ...        ...        ...            ...   \n",
       " 35995  527137.609375  3.382640e+06  24.382263  24.382263            0.0   \n",
       " 35996  527168.234375  3.382688e+06  24.036366  24.036366            0.0   \n",
       " 35997  527196.937500  3.382736e+06  24.412762  24.412762            0.0   \n",
       " 35998  527224.312500  3.382784e+06  24.797714  24.797714            0.0   \n",
       " 35999  527250.968750  3.382832e+06  24.585445  24.585445            0.0   \n",
       " \n",
       "        x_velocity  y_velocity  xy_velocity  water_depth  \n",
       " 0             0.0         0.0          0.0          0.0  \n",
       " 1             0.0         0.0          0.0          0.0  \n",
       " 2             0.0         0.0          0.0          0.0  \n",
       " 3             0.0         0.0          0.0          0.0  \n",
       " 4             0.0         0.0          0.0          0.0  \n",
       " ...           ...         ...          ...          ...  \n",
       " 35995         0.0         0.0          0.0          0.0  \n",
       " 35996         0.0         0.0          0.0          0.0  \n",
       " 35997         0.0         0.0          0.0          0.0  \n",
       " 35998         0.0         0.0          0.0          0.0  \n",
       " 35999         0.0         0.0          0.0          0.0  \n",
       " \n",
       " [36000 rows x 9 columns],\n",
       "                    x             y  bed_level     sand_z  concentration  \\\n",
       " 0      518693.195313  3.368709e+06  20.538614  20.538614            0.0   \n",
       " 1      518732.648438  3.368797e+06  21.723602  21.723602            0.0   \n",
       " 2      518775.289063  3.368875e+06  20.020536  20.020536            0.0   \n",
       " 3      518825.367188  3.368948e+06  22.505301  22.505301            0.0   \n",
       " 4      518882.789063  3.369016e+06  24.735243  24.735243            0.0   \n",
       " ...              ...           ...        ...        ...            ...   \n",
       " 35995  527137.609375  3.382640e+06  24.382263  24.382263            0.0   \n",
       " 35996  527168.234375  3.382688e+06  24.036366  24.036366            0.0   \n",
       " 35997  527196.937500  3.382736e+06  24.412762  24.412762            0.0   \n",
       " 35998  527224.312500  3.382784e+06  24.797714  24.797714            0.0   \n",
       " 35999  527250.968750  3.382832e+06  24.585445  24.585445            0.0   \n",
       " \n",
       "        x_velocity  y_velocity  xy_velocity  water_depth  \n",
       " 0             0.0         0.0          0.0          0.0  \n",
       " 1             0.0         0.0          0.0          0.0  \n",
       " 2             0.0         0.0          0.0          0.0  \n",
       " 3             0.0         0.0          0.0          0.0  \n",
       " 4             0.0         0.0          0.0          0.0  \n",
       " ...           ...         ...          ...          ...  \n",
       " 35995         0.0         0.0          0.0          0.0  \n",
       " 35996         0.0         0.0          0.0          0.0  \n",
       " 35997         0.0         0.0          0.0          0.0  \n",
       " 35998         0.0         0.0          0.0          0.0  \n",
       " 35999         0.0         0.0          0.0          0.0  \n",
       " \n",
       " [36000 rows x 9 columns],\n",
       "                    x             y  bed_level     sand_z  concentration  \\\n",
       " 0      518693.195313  3.368709e+06  20.538614  20.538614            0.0   \n",
       " 1      518732.648438  3.368797e+06  21.723602  21.723602            0.0   \n",
       " 2      518775.289063  3.368875e+06  20.020536  20.020536            0.0   \n",
       " 3      518825.367188  3.368948e+06  22.505301  22.505301            0.0   \n",
       " 4      518882.789063  3.369016e+06  24.735243  24.735243            0.0   \n",
       " ...              ...           ...        ...        ...            ...   \n",
       " 35995  527137.609375  3.382640e+06  24.382263  24.382263            0.0   \n",
       " 35996  527168.234375  3.382688e+06  24.036366  24.036366            0.0   \n",
       " 35997  527196.937500  3.382736e+06  24.412762  24.412762            0.0   \n",
       " 35998  527224.312500  3.382784e+06  24.797714  24.797714            0.0   \n",
       " 35999  527250.968750  3.382832e+06  24.585445  24.585445            0.0   \n",
       " \n",
       "        x_velocity  y_velocity  xy_velocity  water_depth  \n",
       " 0             0.0         0.0          0.0          0.0  \n",
       " 1             0.0         0.0          0.0          0.0  \n",
       " 2             0.0         0.0          0.0          0.0  \n",
       " 3             0.0         0.0          0.0          0.0  \n",
       " 4             0.0         0.0          0.0          0.0  \n",
       " ...           ...         ...          ...          ...  \n",
       " 35995         0.0         0.0          0.0          0.0  \n",
       " 35996         0.0         0.0          0.0          0.0  \n",
       " 35997         0.0         0.0          0.0          0.0  \n",
       " 35998         0.0         0.0          0.0          0.0  \n",
       " 35999         0.0         0.0          0.0          0.0  \n",
       " \n",
       " [36000 rows x 9 columns],\n",
       "                    x             y  bed_level     sand_z  concentration  \\\n",
       " 0      518693.195313  3.368709e+06  20.538614  20.538614            0.0   \n",
       " 1      518732.648438  3.368797e+06  21.723602  21.723602            0.0   \n",
       " 2      518775.289063  3.368875e+06  20.020536  20.020536            0.0   \n",
       " 3      518825.367188  3.368948e+06  22.505301  22.505301            0.0   \n",
       " 4      518882.789063  3.369016e+06  24.735243  24.735243            0.0   \n",
       " ...              ...           ...        ...        ...            ...   \n",
       " 35995  527137.609375  3.382640e+06  24.382263  24.382263            0.0   \n",
       " 35996  527168.234375  3.382688e+06  24.036366  24.036366            0.0   \n",
       " 35997  527196.937500  3.382736e+06  24.412762  24.412762            0.0   \n",
       " 35998  527224.312500  3.382784e+06  24.797714  24.797714            0.0   \n",
       " 35999  527250.968750  3.382832e+06  24.585445  24.585445            0.0   \n",
       " \n",
       "        x_velocity  y_velocity  xy_velocity  water_depth  \n",
       " 0             0.0         0.0          0.0          0.0  \n",
       " 1             0.0         0.0          0.0          0.0  \n",
       " 2             0.0         0.0          0.0          0.0  \n",
       " 3             0.0         0.0          0.0          0.0  \n",
       " 4             0.0         0.0          0.0          0.0  \n",
       " ...           ...         ...          ...          ...  \n",
       " 35995         0.0         0.0          0.0          0.0  \n",
       " 35996         0.0         0.0          0.0          0.0  \n",
       " 35997         0.0         0.0          0.0          0.0  \n",
       " 35998         0.0         0.0          0.0          0.0  \n",
       " 35999         0.0         0.0          0.0          0.0  \n",
       " \n",
       " [36000 rows x 9 columns],\n",
       "                    x             y  bed_level     sand_z  concentration  \\\n",
       " 0      518693.195313  3.368709e+06  20.538614  20.538614            0.0   \n",
       " 1      518732.648438  3.368797e+06  21.723602  21.723602            0.0   \n",
       " 2      518775.289063  3.368875e+06  20.020536  20.020536            0.0   \n",
       " 3      518825.367188  3.368948e+06  22.505301  22.505301            0.0   \n",
       " 4      518882.789063  3.369016e+06  24.735243  24.735243            0.0   \n",
       " ...              ...           ...        ...        ...            ...   \n",
       " 35995  527137.609375  3.382640e+06  24.382263  24.382263            0.0   \n",
       " 35996  527168.234375  3.382688e+06  24.036366  24.036366            0.0   \n",
       " 35997  527196.937500  3.382736e+06  24.412762  24.412762            0.0   \n",
       " 35998  527224.312500  3.382784e+06  24.797714  24.797714            0.0   \n",
       " 35999  527250.968750  3.382832e+06  24.585445  24.585445            0.0   \n",
       " \n",
       "        x_velocity  y_velocity  xy_velocity  water_depth  \n",
       " 0             0.0         0.0          0.0          0.0  \n",
       " 1             0.0         0.0          0.0          0.0  \n",
       " 2             0.0         0.0          0.0          0.0  \n",
       " 3             0.0         0.0          0.0          0.0  \n",
       " 4             0.0         0.0          0.0          0.0  \n",
       " ...           ...         ...          ...          ...  \n",
       " 35995         0.0         0.0          0.0          0.0  \n",
       " 35996         0.0         0.0          0.0          0.0  \n",
       " 35997         0.0         0.0          0.0          0.0  \n",
       " 35998         0.0         0.0          0.0          0.0  \n",
       " 35999         0.0         0.0          0.0          0.0  \n",
       " \n",
       " [36000 rows x 9 columns],\n",
       "                    x             y  bed_level     sand_z  concentration  \\\n",
       " 0      518693.195313  3.368709e+06  20.538614  20.538614            0.0   \n",
       " 1      518732.648438  3.368797e+06  21.723602  21.723602            0.0   \n",
       " 2      518775.289063  3.368875e+06  20.020536  20.020536            0.0   \n",
       " 3      518825.367188  3.368948e+06  22.505301  22.505301            0.0   \n",
       " 4      518882.789063  3.369016e+06  24.735243  24.735243            0.0   \n",
       " ...              ...           ...        ...        ...            ...   \n",
       " 35995  527137.609375  3.382640e+06  24.382263  24.382263            0.0   \n",
       " 35996  527168.234375  3.382688e+06  24.036366  24.036366            0.0   \n",
       " 35997  527196.937500  3.382736e+06  24.412762  24.412762            0.0   \n",
       " 35998  527224.312500  3.382784e+06  24.797714  24.797714            0.0   \n",
       " 35999  527250.968750  3.382832e+06  24.585445  24.585445            0.0   \n",
       " \n",
       "        x_velocity  y_velocity  xy_velocity  water_depth  \n",
       " 0             0.0         0.0          0.0          0.0  \n",
       " 1             0.0         0.0          0.0          0.0  \n",
       " 2             0.0         0.0          0.0          0.0  \n",
       " 3             0.0         0.0          0.0          0.0  \n",
       " 4             0.0         0.0          0.0          0.0  \n",
       " ...           ...         ...          ...          ...  \n",
       " 35995         0.0         0.0          0.0          0.0  \n",
       " 35996         0.0         0.0          0.0          0.0  \n",
       " 35997         0.0         0.0          0.0          0.0  \n",
       " 35998         0.0         0.0          0.0          0.0  \n",
       " 35999         0.0         0.0          0.0          0.0  \n",
       " \n",
       " [36000 rows x 9 columns],\n",
       "                    x             y  bed_level     sand_z  concentration  \\\n",
       " 0      518693.195313  3.368709e+06  20.538614  20.538614            0.0   \n",
       " 1      518732.648438  3.368797e+06  21.723602  21.723602            0.0   \n",
       " 2      518775.289063  3.368875e+06  20.020536  20.020536            0.0   \n",
       " 3      518825.367188  3.368948e+06  22.505301  22.505301            0.0   \n",
       " 4      518882.789063  3.369016e+06  24.735243  24.735243            0.0   \n",
       " ...              ...           ...        ...        ...            ...   \n",
       " 35995  527137.609375  3.382640e+06  24.382263  24.382263            0.0   \n",
       " 35996  527168.234375  3.382688e+06  24.036366  24.036366            0.0   \n",
       " 35997  527196.937500  3.382736e+06  24.412762  24.412762            0.0   \n",
       " 35998  527224.312500  3.382784e+06  24.797714  24.797714            0.0   \n",
       " 35999  527250.968750  3.382832e+06  24.585445  24.585445            0.0   \n",
       " \n",
       "        x_velocity  y_velocity  xy_velocity  water_depth  \n",
       " 0             0.0         0.0          0.0          0.0  \n",
       " 1             0.0         0.0          0.0          0.0  \n",
       " 2             0.0         0.0          0.0          0.0  \n",
       " 3             0.0         0.0          0.0          0.0  \n",
       " 4             0.0         0.0          0.0          0.0  \n",
       " ...           ...         ...          ...          ...  \n",
       " 35995         0.0         0.0          0.0          0.0  \n",
       " 35996         0.0         0.0          0.0          0.0  \n",
       " 35997         0.0         0.0          0.0          0.0  \n",
       " 35998         0.0         0.0          0.0          0.0  \n",
       " 35999         0.0         0.0          0.0          0.0  \n",
       " \n",
       " [36000 rows x 9 columns],\n",
       "                    x             y  bed_level     sand_z  concentration  \\\n",
       " 0      518693.195313  3.368709e+06  20.538614  20.538614            0.0   \n",
       " 1      518732.648438  3.368797e+06  21.723602  21.723602            0.0   \n",
       " 2      518775.289063  3.368875e+06  20.020536  20.020536            0.0   \n",
       " 3      518825.367188  3.368948e+06  22.505301  22.505301            0.0   \n",
       " 4      518882.789063  3.369016e+06  24.735243  24.735243            0.0   \n",
       " ...              ...           ...        ...        ...            ...   \n",
       " 35995  527137.609375  3.382640e+06  24.382263  24.382263            0.0   \n",
       " 35996  527168.234375  3.382688e+06  24.036366  24.036366            0.0   \n",
       " 35997  527196.937500  3.382736e+06  24.412762  24.412762            0.0   \n",
       " 35998  527224.312500  3.382784e+06  24.797714  24.797714            0.0   \n",
       " 35999  527250.968750  3.382832e+06  24.585445  24.585445            0.0   \n",
       " \n",
       "        x_velocity  y_velocity  xy_velocity  water_depth  \n",
       " 0             0.0         0.0          0.0          0.0  \n",
       " 1             0.0         0.0          0.0          0.0  \n",
       " 2             0.0         0.0          0.0          0.0  \n",
       " 3             0.0         0.0          0.0          0.0  \n",
       " 4             0.0         0.0          0.0          0.0  \n",
       " ...           ...         ...          ...          ...  \n",
       " 35995         0.0         0.0          0.0          0.0  \n",
       " 35996         0.0         0.0          0.0          0.0  \n",
       " 35997         0.0         0.0          0.0          0.0  \n",
       " 35998         0.0         0.0          0.0          0.0  \n",
       " 35999         0.0         0.0          0.0          0.0  \n",
       " \n",
       " [36000 rows x 9 columns],\n",
       "                    x             y  bed_level     sand_z  concentration  \\\n",
       " 0      518693.195313  3.368709e+06  20.538614  20.538614            0.0   \n",
       " 1      518732.648438  3.368797e+06  21.723602  21.723602            0.0   \n",
       " 2      518775.289063  3.368875e+06  20.020536  20.020536            0.0   \n",
       " 3      518825.367188  3.368948e+06  22.505301  22.505301            0.0   \n",
       " 4      518882.789063  3.369016e+06  24.735243  24.735243            0.0   \n",
       " ...              ...           ...        ...        ...            ...   \n",
       " 35995  527137.609375  3.382640e+06  24.382263  24.382263            0.0   \n",
       " 35996  527168.234375  3.382688e+06  24.036366  24.036366            0.0   \n",
       " 35997  527196.937500  3.382736e+06  24.412762  24.412762            0.0   \n",
       " 35998  527224.312500  3.382784e+06  24.797714  24.797714            0.0   \n",
       " 35999  527250.968750  3.382832e+06  24.585445  24.585445            0.0   \n",
       " \n",
       "        x_velocity  y_velocity  xy_velocity  water_depth  \n",
       " 0             0.0         0.0          0.0          0.0  \n",
       " 1             0.0         0.0          0.0          0.0  \n",
       " 2             0.0         0.0          0.0          0.0  \n",
       " 3             0.0         0.0          0.0          0.0  \n",
       " 4             0.0         0.0          0.0          0.0  \n",
       " ...           ...         ...          ...          ...  \n",
       " 35995         0.0         0.0          0.0          0.0  \n",
       " 35996         0.0         0.0          0.0          0.0  \n",
       " 35997         0.0         0.0          0.0          0.0  \n",
       " 35998         0.0         0.0          0.0          0.0  \n",
       " 35999         0.0         0.0          0.0          0.0  \n",
       " \n",
       " [36000 rows x 9 columns],\n",
       "                    x             y  bed_level     sand_z  concentration  \\\n",
       " 0      518693.195313  3.368709e+06  20.538614  20.538614            0.0   \n",
       " 1      518732.648438  3.368797e+06  21.723602  21.723602            0.0   \n",
       " 2      518775.289063  3.368875e+06  20.020536  20.020536            0.0   \n",
       " 3      518825.367188  3.368948e+06  22.505301  22.505301            0.0   \n",
       " 4      518882.789063  3.369016e+06  24.735243  24.735243            0.0   \n",
       " ...              ...           ...        ...        ...            ...   \n",
       " 35995  527137.609375  3.382640e+06  24.382263  24.382263            0.0   \n",
       " 35996  527168.234375  3.382688e+06  24.036366  24.036366            0.0   \n",
       " 35997  527196.937500  3.382736e+06  24.412762  24.412762            0.0   \n",
       " 35998  527224.312500  3.382784e+06  24.797714  24.797714            0.0   \n",
       " 35999  527250.968750  3.382832e+06  24.585445  24.585445            0.0   \n",
       " \n",
       "        x_velocity  y_velocity  xy_velocity  water_depth  \n",
       " 0             0.0         0.0          0.0          0.0  \n",
       " 1             0.0         0.0          0.0          0.0  \n",
       " 2             0.0         0.0          0.0          0.0  \n",
       " 3             0.0         0.0          0.0          0.0  \n",
       " 4             0.0         0.0          0.0          0.0  \n",
       " ...           ...         ...          ...          ...  \n",
       " 35995         0.0         0.0          0.0          0.0  \n",
       " 35996         0.0         0.0          0.0          0.0  \n",
       " 35997         0.0         0.0          0.0          0.0  \n",
       " 35998         0.0         0.0          0.0          0.0  \n",
       " 35999         0.0         0.0          0.0          0.0  \n",
       " \n",
       " [36000 rows x 9 columns],\n",
       "                    x             y  bed_level     sand_z  concentration  \\\n",
       " 0      518693.195313  3.368709e+06  20.538614  20.538614            0.0   \n",
       " 1      518732.648438  3.368797e+06  21.723602  21.723602            0.0   \n",
       " 2      518775.289063  3.368875e+06  20.020536  20.020536            0.0   \n",
       " 3      518825.367188  3.368948e+06  22.505301  22.505301            0.0   \n",
       " 4      518882.789063  3.369016e+06  24.735243  24.735243            0.0   \n",
       " ...              ...           ...        ...        ...            ...   \n",
       " 35995  527137.609375  3.382640e+06  24.382263  24.382263            0.0   \n",
       " 35996  527168.234375  3.382688e+06  24.036366  24.036366            0.0   \n",
       " 35997  527196.937500  3.382736e+06  24.412762  24.412762            0.0   \n",
       " 35998  527224.312500  3.382784e+06  24.797714  24.797714            0.0   \n",
       " 35999  527250.968750  3.382832e+06  24.585445  24.585445            0.0   \n",
       " \n",
       "        x_velocity  y_velocity  xy_velocity  water_depth  \n",
       " 0             0.0         0.0          0.0          0.0  \n",
       " 1             0.0         0.0          0.0          0.0  \n",
       " 2             0.0         0.0          0.0          0.0  \n",
       " 3             0.0         0.0          0.0          0.0  \n",
       " 4             0.0         0.0          0.0          0.0  \n",
       " ...           ...         ...          ...          ...  \n",
       " 35995         0.0         0.0          0.0          0.0  \n",
       " 35996         0.0         0.0          0.0          0.0  \n",
       " 35997         0.0         0.0          0.0          0.0  \n",
       " 35998         0.0         0.0          0.0          0.0  \n",
       " 35999         0.0         0.0          0.0          0.0  \n",
       " \n",
       " [36000 rows x 9 columns]]"
      ]
     },
     "execution_count": 59,
     "metadata": {},
     "output_type": "execute_result"
    }
   ],
   "source": [
    "data_all[:100]"
   ]
  },
  {
   "cell_type": "code",
   "execution_count": null,
   "metadata": {},
   "outputs": [],
   "source": []
  },
  {
   "cell_type": "code",
   "execution_count": 60,
   "metadata": {},
   "outputs": [
    {
     "data": {
      "text/plain": [
       "13"
      ]
     },
     "execution_count": 60,
     "metadata": {},
     "output_type": "execute_result"
    }
   ],
   "source": [
    "len(data_all)"
   ]
  },
  {
   "cell_type": "code",
   "execution_count": 61,
   "metadata": {},
   "outputs": [],
   "source": [
    "step_len = 3\n",
    "predict_len = 1\n",
    "data_len = 36000"
   ]
  },
  {
   "cell_type": "code",
   "execution_count": 62,
   "metadata": {},
   "outputs": [
    {
     "data": {
      "text/plain": [
       "x                5.184564e+05\n",
       "y                3.368884e+06\n",
       "bed_level        4.233002e+00\n",
       "sand_z           8.097850e+00\n",
       "concentration    0.000000e+00\n",
       "x_velocity       2.575530e-01\n",
       "y_velocity       2.828840e-01\n",
       "xy_velocity      3.825660e-01\n",
       "water_depth      7.729696e+00\n",
       "Name: 8640, dtype: float64"
      ]
     },
     "execution_count": 62,
     "metadata": {},
     "output_type": "execute_result"
    }
   ],
   "source": [
    "data_all[1].iloc[8640]"
   ]
  },
  {
   "cell_type": "code",
   "execution_count": 63,
   "metadata": {},
   "outputs": [
    {
     "name": "stdout",
     "output_type": "stream",
     "text": [
      "0\n",
      "1\n",
      "2\n",
      "3\n",
      "4\n",
      "5\n",
      "6\n",
      "7\n",
      "8\n",
      "9\n"
     ]
    }
   ],
   "source": [
    "data_step = []\n",
    "for i in range(0,months-step_len-predict_len+1):\n",
    "    print(i)\n",
    "    for index, row in data_all[i].iterrows():\n",
    "        data_ = []\n",
    "        for j in range(0,step_len+predict_len):\n",
    "            data_.append(data_all[i+j].iloc[index])\n",
    "        data_step.append(data_)"
   ]
  },
  {
   "cell_type": "code",
   "execution_count": 64,
   "metadata": {},
   "outputs": [
    {
     "data": {
      "text/plain": [
       "[[x                5.184564e+05\n",
       "  y                3.368884e+06\n",
       "  bed_level        2.487651e+00\n",
       "  sand_z           7.235242e+00\n",
       "  concentration    0.000000e+00\n",
       "  x_velocity       2.318120e-01\n",
       "  y_velocity       2.495560e-01\n",
       "  xy_velocity      3.406100e-01\n",
       "  water_depth      9.495181e+00\n",
       "  Name: 8640, dtype: float64,\n",
       "  x                5.184564e+05\n",
       "  y                3.368884e+06\n",
       "  bed_level        4.233002e+00\n",
       "  sand_z           8.097850e+00\n",
       "  concentration    0.000000e+00\n",
       "  x_velocity       2.575530e-01\n",
       "  y_velocity       2.828840e-01\n",
       "  xy_velocity      3.825660e-01\n",
       "  water_depth      7.729696e+00\n",
       "  Name: 8640, dtype: float64,\n",
       "  x                5.184564e+05\n",
       "  y                3.368884e+06\n",
       "  bed_level        5.726032e+00\n",
       "  sand_z           8.880440e+00\n",
       "  concentration    3.495000e-02\n",
       "  x_velocity       4.312960e-01\n",
       "  y_velocity       4.931630e-01\n",
       "  xy_velocity      6.551530e-01\n",
       "  water_depth      6.308815e+00\n",
       "  Name: 8640, dtype: float64,\n",
       "  x                5.184564e+05\n",
       "  y                3.368884e+06\n",
       "  bed_level        6.748172e+00\n",
       "  sand_z           9.383905e+00\n",
       "  concentration    7.571000e-02\n",
       "  x_velocity       4.903210e-01\n",
       "  y_velocity       5.276530e-01\n",
       "  xy_velocity      7.203000e-01\n",
       "  water_depth      5.271465e+00\n",
       "  Name: 8640, dtype: float64],\n",
       " [x                5.185133e+05\n",
       "  y                3.368955e+06\n",
       "  bed_level        9.850950e-01\n",
       "  sand_z           6.483216e+00\n",
       "  concentration    0.000000e+00\n",
       "  x_velocity       2.418850e-01\n",
       "  y_velocity       2.395920e-01\n",
       "  xy_velocity      3.404590e-01\n",
       "  water_depth      1.099624e+01\n",
       "  Name: 8641, dtype: float64,\n",
       "  x                5.185133e+05\n",
       "  y                3.368955e+06\n",
       "  bed_level        2.483652e+00\n",
       "  sand_z           7.222383e+00\n",
       "  concentration    0.000000e+00\n",
       "  x_velocity       2.691060e-01\n",
       "  y_velocity       2.582540e-01\n",
       "  xy_velocity      3.729790e-01\n",
       "  water_depth      9.477461e+00\n",
       "  Name: 8641, dtype: float64,\n",
       "  x                5.185133e+05\n",
       "  y                3.368955e+06\n",
       "  bed_level        3.769577e+00\n",
       "  sand_z           7.900859e+00\n",
       "  concentration    7.417000e-03\n",
       "  x_velocity       4.498720e-01\n",
       "  y_velocity       4.339730e-01\n",
       "  xy_velocity      6.250740e-01\n",
       "  water_depth      8.262564e+00\n",
       "  Name: 8641, dtype: float64,\n",
       "  x                5.185133e+05\n",
       "  y                3.368955e+06\n",
       "  bed_level        5.225676e+00\n",
       "  sand_z           8.620405e+00\n",
       "  concentration    2.830700e-02\n",
       "  x_velocity       5.508240e-01\n",
       "  y_velocity       4.706930e-01\n",
       "  xy_velocity      7.245400e-01\n",
       "  water_depth      6.789459e+00\n",
       "  Name: 8641, dtype: float64],\n",
       " [x                5.185727e+05\n",
       "  y                3.369027e+06\n",
       "  bed_level       -3.349690e-01\n",
       "  sand_z           5.823381e+00\n",
       "  concentration    0.000000e+00\n",
       "  x_velocity       2.408390e-01\n",
       "  y_velocity       2.238500e-01\n",
       "  xy_velocity      3.288040e-01\n",
       "  water_depth      1.231670e+01\n",
       "  Name: 8642, dtype: float64,\n",
       "  x                5.185727e+05\n",
       "  y                3.369027e+06\n",
       "  bed_level        9.160030e-01\n",
       "  sand_z           6.438976e+00\n",
       "  concentration    0.000000e+00\n",
       "  x_velocity       2.597260e-01\n",
       "  y_velocity       2.321240e-01\n",
       "  xy_velocity      3.483380e-01\n",
       "  water_depth      1.104595e+01\n",
       "  Name: 8642, dtype: float64,\n",
       "  x                5.185727e+05\n",
       "  y                3.369027e+06\n",
       "  bed_level        1.995466e+00\n",
       "  sand_z           7.016057e+00\n",
       "  concentration    2.904000e-03\n",
       "  x_velocity       4.233590e-01\n",
       "  y_velocity       3.774810e-01\n",
       "  xy_velocity      5.672080e-01\n",
       "  water_depth      1.004118e+01\n",
       "  Name: 8642, dtype: float64,\n",
       "  x                5.185727e+05\n",
       "  y                3.369027e+06\n",
       "  bed_level        3.368479e+00\n",
       "  sand_z           7.694021e+00\n",
       "  concentration    1.221900e-02\n",
       "  x_velocity       5.190190e-01\n",
       "  y_velocity       4.337440e-01\n",
       "  xy_velocity      6.763980e-01\n",
       "  water_depth      8.651083e+00\n",
       "  Name: 8642, dtype: float64]]"
      ]
     },
     "execution_count": 64,
     "metadata": {},
     "output_type": "execute_result"
    }
   ],
   "source": [
    "data_step[8640:8643]"
   ]
  },
  {
   "cell_type": "code",
   "execution_count": 65,
   "metadata": {},
   "outputs": [],
   "source": [
    "data_step = np.array(data_step)"
   ]
  },
  {
   "cell_type": "code",
   "execution_count": 66,
   "metadata": {},
   "outputs": [
    {
     "data": {
      "text/plain": [
       "(360000, 4, 9)"
      ]
     },
     "execution_count": 66,
     "metadata": {},
     "output_type": "execute_result"
    }
   ],
   "source": [
    "data_step.shape"
   ]
  },
  {
   "cell_type": "code",
   "execution_count": 67,
   "metadata": {},
   "outputs": [],
   "source": [
    "x = data_step[:, :-predict_len, :]\n",
    "y = data_step[:, -predict_len, 2]"
   ]
  },
  {
   "cell_type": "code",
   "execution_count": 68,
   "metadata": {},
   "outputs": [
    {
     "data": {
      "text/plain": [
       "((360000, 3, 9), (360000,))"
      ]
     },
     "execution_count": 68,
     "metadata": {},
     "output_type": "execute_result"
    }
   ],
   "source": [
    "x.shape,y.shape"
   ]
  },
  {
   "cell_type": "code",
   "execution_count": 69,
   "metadata": {},
   "outputs": [
    {
     "data": {
      "text/plain": [
       "(array([[[5.18693195e+05, 3.36870919e+06, 2.05386140e+01, 2.05386140e+01,\n",
       "          0.00000000e+00, 0.00000000e+00, 0.00000000e+00, 0.00000000e+00,\n",
       "          0.00000000e+00],\n",
       "         [5.18693195e+05, 3.36870919e+06, 2.05386140e+01, 2.05386140e+01,\n",
       "          0.00000000e+00, 0.00000000e+00, 0.00000000e+00, 0.00000000e+00,\n",
       "          0.00000000e+00],\n",
       "         [5.18693195e+05, 3.36870919e+06, 2.05386140e+01, 2.05386140e+01,\n",
       "          0.00000000e+00, 0.00000000e+00, 0.00000000e+00, 0.00000000e+00,\n",
       "          0.00000000e+00]],\n",
       " \n",
       "        [[5.18732648e+05, 3.36879706e+06, 2.17236020e+01, 2.17236020e+01,\n",
       "          0.00000000e+00, 0.00000000e+00, 0.00000000e+00, 0.00000000e+00,\n",
       "          0.00000000e+00],\n",
       "         [5.18732648e+05, 3.36879706e+06, 2.17236020e+01, 2.17236020e+01,\n",
       "          0.00000000e+00, 0.00000000e+00, 0.00000000e+00, 0.00000000e+00,\n",
       "          0.00000000e+00],\n",
       "         [5.18732648e+05, 3.36879706e+06, 2.17236020e+01, 2.17236020e+01,\n",
       "          0.00000000e+00, 0.00000000e+00, 0.00000000e+00, 0.00000000e+00,\n",
       "          0.00000000e+00]],\n",
       " \n",
       "        [[5.18775289e+05, 3.36887525e+06, 2.00205360e+01, 2.00205360e+01,\n",
       "          0.00000000e+00, 0.00000000e+00, 0.00000000e+00, 0.00000000e+00,\n",
       "          0.00000000e+00],\n",
       "         [5.18775289e+05, 3.36887525e+06, 2.00205360e+01, 2.00205360e+01,\n",
       "          0.00000000e+00, 0.00000000e+00, 0.00000000e+00, 0.00000000e+00,\n",
       "          0.00000000e+00],\n",
       "         [5.18775289e+05, 3.36887525e+06, 2.00205360e+01, 2.00205360e+01,\n",
       "          0.00000000e+00, 0.00000000e+00, 0.00000000e+00, 0.00000000e+00,\n",
       "          0.00000000e+00]]]),\n",
       " array([20.538614, 21.723602, 20.020536]),\n",
       " 13,\n",
       " 13)"
      ]
     },
     "execution_count": 69,
     "metadata": {},
     "output_type": "execute_result"
    }
   ],
   "source": [
    "x[0:3],y[0:3],months,len(data_all)"
   ]
  },
  {
   "cell_type": "code",
   "execution_count": 70,
   "metadata": {},
   "outputs": [],
   "source": [
    "split=324000"
   ]
  },
  {
   "cell_type": "code",
   "execution_count": 71,
   "metadata": {},
   "outputs": [],
   "source": [
    "train_x = x[:split]\n",
    "train_y = y[:split]\n",
    "test_x = x[split:]\n",
    "test_y = y[split:]"
   ]
  },
  {
   "cell_type": "code",
   "execution_count": 72,
   "metadata": {},
   "outputs": [
    {
     "data": {
      "text/plain": [
       "((324000, 3, 9), (324000,), (36000, 3, 9), (36000,))"
      ]
     },
     "execution_count": 72,
     "metadata": {},
     "output_type": "execute_result"
    }
   ],
   "source": [
    "train_x.shape,train_y.shape,test_x.shape,test_y.shape"
   ]
  },
  {
   "cell_type": "code",
   "execution_count": 73,
   "metadata": {},
   "outputs": [
    {
     "data": {
      "text/plain": [
       "(array([[[ 5.18456367e+05,  3.36888400e+06,  2.48765100e+00,\n",
       "           7.23524200e+00,  0.00000000e+00,  2.31812000e-01,\n",
       "           2.49556000e-01,  3.40610000e-01,  9.49518100e+00],\n",
       "         [ 5.18456367e+05,  3.36888400e+06,  4.23300200e+00,\n",
       "           8.09785000e+00,  0.00000000e+00,  2.57553000e-01,\n",
       "           2.82884000e-01,  3.82566000e-01,  7.72969600e+00],\n",
       "         [ 5.18456367e+05,  3.36888400e+06,  5.72603200e+00,\n",
       "           8.88044000e+00,  3.49500000e-02,  4.31296000e-01,\n",
       "           4.93163000e-01,  6.55153000e-01,  6.30881500e+00]],\n",
       " \n",
       "        [[ 5.18513273e+05,  3.36895488e+06,  9.85095000e-01,\n",
       "           6.48321600e+00,  0.00000000e+00,  2.41885000e-01,\n",
       "           2.39592000e-01,  3.40459000e-01,  1.09962420e+01],\n",
       "         [ 5.18513273e+05,  3.36895488e+06,  2.48365200e+00,\n",
       "           7.22238300e+00,  0.00000000e+00,  2.69106000e-01,\n",
       "           2.58254000e-01,  3.72979000e-01,  9.47746100e+00],\n",
       "         [ 5.18513273e+05,  3.36895488e+06,  3.76957700e+00,\n",
       "           7.90085900e+00,  7.41700000e-03,  4.49872000e-01,\n",
       "           4.33973000e-01,  6.25074000e-01,  8.26256400e+00]],\n",
       " \n",
       "        [[ 5.18572734e+05,  3.36902719e+06, -3.34969000e-01,\n",
       "           5.82338100e+00,  0.00000000e+00,  2.40839000e-01,\n",
       "           2.23850000e-01,  3.28804000e-01,  1.23167010e+01],\n",
       "         [ 5.18572734e+05,  3.36902719e+06,  9.16003000e-01,\n",
       "           6.43897600e+00,  0.00000000e+00,  2.59726000e-01,\n",
       "           2.32124000e-01,  3.48338000e-01,  1.10459480e+01],\n",
       "         [ 5.18572734e+05,  3.36902719e+06,  1.99546600e+00,\n",
       "           7.01605700e+00,  2.90400000e-03,  4.23359000e-01,\n",
       "           3.77481000e-01,  5.67208000e-01,  1.00411810e+01]]]),\n",
       " array([6.748172, 5.225676, 3.368479]))"
      ]
     },
     "execution_count": 73,
     "metadata": {},
     "output_type": "execute_result"
    }
   ],
   "source": [
    "train_x[8640:8643],train_y[8640:8643]"
   ]
  },
  {
   "cell_type": "code",
   "execution_count": 74,
   "metadata": {},
   "outputs": [
    {
     "data": {
      "text/plain": [
       "(3, 9)"
      ]
     },
     "execution_count": 74,
     "metadata": {},
     "output_type": "execute_result"
    }
   ],
   "source": [
    "mean = train_x.mean(axis=0)\n",
    "std = train_x.std(axis=0)\n",
    "train_max = train_x.max(axis=0)\n",
    "train_min = train_x.min(axis=0)\n",
    "mean.shape"
   ]
  },
  {
   "cell_type": "code",
   "execution_count": 75,
   "metadata": {},
   "outputs": [
    {
     "data": {
      "text/plain": [
       "(array([[[-0.39807338, -0.39537868,  0.26056928,  0.28367465,\n",
       "          -0.02222049, -0.13121817, -0.17671843, -0.18700768,\n",
       "          -0.20276566],\n",
       "         [-0.39807338, -0.39537868,  0.25971487,  0.28304954,\n",
       "          -0.02227823, -0.13264718, -0.13649185, -0.18926459,\n",
       "          -0.20134162],\n",
       "         [-0.39807338, -0.39537868,  0.25887559,  0.28249013,\n",
       "          -0.02228226, -0.13338421, -0.1370519 , -0.19011908,\n",
       "          -0.199914  ]]]),\n",
       " array([20.538614]))"
      ]
     },
     "execution_count": 75,
     "metadata": {},
     "output_type": "execute_result"
    }
   ],
   "source": [
    "train_x = (train_x - mean)/(train_max - train_min)\n",
    "test_x = (test_x - mean)/(train_max - train_min)\n",
    "train_x[:1],train_y[:1]"
   ]
  },
  {
   "cell_type": "code",
   "execution_count": 76,
   "metadata": {},
   "outputs": [
    {
     "name": "stdout",
     "output_type": "stream",
     "text": [
      "Model: \"sequential_1\"\n",
      "_________________________________________________________________\n",
      "Layer (type)                 Output Shape              Param #   \n",
      "=================================================================\n",
      "simple_rnn_3 (SimpleRNN)     (None, 3, 32)             1344      \n",
      "_________________________________________________________________\n",
      "simple_rnn_4 (SimpleRNN)     (None, 3, 16)             784       \n",
      "_________________________________________________________________\n",
      "simple_rnn_5 (SimpleRNN)     (None, 8)                 200       \n",
      "_________________________________________________________________\n",
      "dense_1 (Dense)              (None, 1)                 9         \n",
      "=================================================================\n",
      "Total params: 2,337\n",
      "Trainable params: 2,337\n",
      "Non-trainable params: 0\n",
      "_________________________________________________________________\n"
     ]
    }
   ],
   "source": [
    "model = tf.keras.Sequential()\n",
    "model.add(layers.SimpleRNN(32,return_sequences=True, input_shape=(train_x.shape[1:]), ))\n",
    "model.add(layers.SimpleRNN(16,return_sequences=True))\n",
    "model.add(layers.SimpleRNN(8))\n",
    "model.add(layers.Dense(1))\n",
    "model.summary()"
   ]
  },
  {
   "cell_type": "code",
   "execution_count": 77,
   "metadata": {},
   "outputs": [],
   "source": [
    "model.compile(optimizer='adam',\n",
    "              loss='mae'\n",
    ")"
   ]
  },
  {
   "cell_type": "code",
   "execution_count": 80,
   "metadata": {},
   "outputs": [
    {
     "name": "stdout",
     "output_type": "stream",
     "text": [
      "epoch=100,batch_size=360\n"
     ]
    }
   ],
   "source": [
    "epoch_size = 100\n",
    "batch_size = 360\n",
    "print(\"epoch=%s,batch_size=%s\"%(epoch_size,batch_size))"
   ]
  },
  {
   "cell_type": "code",
   "execution_count": 81,
   "metadata": {},
   "outputs": [
    {
     "name": "stdout",
     "output_type": "stream",
     "text": [
      "Epoch 1/100\n",
      "900/900 [==============================] - 2s 2ms/step - loss: 0.0965\n",
      "Epoch 2/100\n",
      "900/900 [==============================] - 2s 2ms/step - loss: 0.0899\n",
      "Epoch 3/100\n",
      "900/900 [==============================] - 2s 2ms/step - loss: 0.0871\n",
      "Epoch 4/100\n",
      "900/900 [==============================] - 2s 2ms/step - loss: 0.0873\n",
      "Epoch 5/100\n",
      "900/900 [==============================] - 2s 2ms/step - loss: 0.0874\n",
      "Epoch 6/100\n",
      "900/900 [==============================] - 2s 2ms/step - loss: 0.0846\n",
      "Epoch 7/100\n",
      "900/900 [==============================] - 2s 2ms/step - loss: 0.0821\n",
      "Epoch 8/100\n",
      "900/900 [==============================] - 2s 2ms/step - loss: 0.0811\n",
      "Epoch 9/100\n",
      "900/900 [==============================] - 2s 2ms/step - loss: 0.0798\n",
      "Epoch 10/100\n",
      "900/900 [==============================] - 2s 2ms/step - loss: 0.0799\n",
      "Epoch 11/100\n",
      "900/900 [==============================] - 2s 2ms/step - loss: 0.0778\n",
      "Epoch 12/100\n",
      "900/900 [==============================] - 2s 2ms/step - loss: 0.0765\n",
      "Epoch 13/100\n",
      "900/900 [==============================] - 2s 2ms/step - loss: 0.0750\n",
      "Epoch 14/100\n",
      "900/900 [==============================] - 2s 2ms/step - loss: 0.0747\n",
      "Epoch 15/100\n",
      "900/900 [==============================] - 2s 2ms/step - loss: 0.0745\n",
      "Epoch 16/100\n",
      "900/900 [==============================] - 2s 2ms/step - loss: 0.0739\n",
      "Epoch 17/100\n",
      "900/900 [==============================] - 2s 2ms/step - loss: 0.0749\n",
      "Epoch 18/100\n",
      "900/900 [==============================] - 2s 2ms/step - loss: 0.0708\n",
      "Epoch 19/100\n",
      "900/900 [==============================] - 2s 2ms/step - loss: 0.0718\n",
      "Epoch 20/100\n",
      "900/900 [==============================] - 2s 2ms/step - loss: 0.0694\n",
      "Epoch 21/100\n",
      "900/900 [==============================] - 2s 2ms/step - loss: 0.0700\n",
      "Epoch 22/100\n",
      "900/900 [==============================] - 2s 2ms/step - loss: 0.0692\n",
      "Epoch 23/100\n",
      "900/900 [==============================] - 2s 3ms/step - loss: 0.0694\n",
      "Epoch 24/100\n",
      "900/900 [==============================] - 2s 2ms/step - loss: 0.0688A\n",
      "Epoch 25/100\n",
      "900/900 [==============================] - 2s 2ms/step - loss: 0.0687\n",
      "Epoch 26/100\n",
      "900/900 [==============================] - 2s 2ms/step - loss: 0.0650\n",
      "Epoch 27/100\n",
      "900/900 [==============================] - 2s 2ms/step - loss: 0.0677\n",
      "Epoch 28/100\n",
      "900/900 [==============================] - 2s 2ms/step - loss: 0.0680\n",
      "Epoch 29/100\n",
      "900/900 [==============================] - 2s 2ms/step - loss: 0.0644\n",
      "Epoch 30/100\n",
      "900/900 [==============================] - 2s 2ms/step - loss: 0.0655\n",
      "Epoch 31/100\n",
      "900/900 [==============================] - 2s 2ms/step - loss: 0.0635\n",
      "Epoch 32/100\n",
      "900/900 [==============================] - 2s 2ms/step - loss: 0.0664\n",
      "Epoch 33/100\n",
      "900/900 [==============================] - 2s 2ms/step - loss: 0.0649\n",
      "Epoch 34/100\n",
      "900/900 [==============================] - 2s 2ms/step - loss: 0.0639\n",
      "Epoch 35/100\n",
      "900/900 [==============================] - 2s 2ms/step - loss: 0.0625\n",
      "Epoch 36/100\n",
      "900/900 [==============================] - 2s 2ms/step - loss: 0.0630\n",
      "Epoch 37/100\n",
      "900/900 [==============================] - 2s 2ms/step - loss: 0.0626\n",
      "Epoch 38/100\n",
      "900/900 [==============================] - 2s 2ms/step - loss: 0.0634\n",
      "Epoch 39/100\n",
      "900/900 [==============================] - 2s 3ms/step - loss: 0.0613\n",
      "Epoch 40/100\n",
      "900/900 [==============================] - 2s 2ms/step - loss: 0.0616\n",
      "Epoch 41/100\n",
      "900/900 [==============================] - 2s 3ms/step - loss: 0.0599\n",
      "Epoch 42/100\n",
      "900/900 [==============================] - 2s 3ms/step - loss: 0.0625\n",
      "Epoch 43/100\n",
      "900/900 [==============================] - 2s 3ms/step - loss: 0.0603\n",
      "Epoch 44/100\n",
      "900/900 [==============================] - 3s 3ms/step - loss: 0.0593\n",
      "Epoch 45/100\n",
      "900/900 [==============================] - 3s 3ms/step - loss: 0.0587\n",
      "Epoch 46/100\n",
      "900/900 [==============================] - 3s 3ms/step - loss: 0.0596\n",
      "Epoch 47/100\n",
      "900/900 [==============================] - 3s 4ms/step - loss: 0.0592\n",
      "Epoch 48/100\n",
      "900/900 [==============================] - 3s 4ms/step - loss: 0.0589\n",
      "Epoch 49/100\n",
      "900/900 [==============================] - 3s 3ms/step - loss: 0.0577\n",
      "Epoch 50/100\n",
      "900/900 [==============================] - 3s 3ms/step - loss: 0.0590\n",
      "Epoch 51/100\n",
      "900/900 [==============================] - 3s 4ms/step - loss: 0.0569\n",
      "Epoch 52/100\n",
      "900/900 [==============================] - 3s 3ms/step - loss: 0.0562\n",
      "Epoch 53/100\n",
      "900/900 [==============================] - 3s 3ms/step - loss: 0.0574\n",
      "Epoch 54/100\n",
      "900/900 [==============================] - 3s 3ms/step - loss: 0.0560\n",
      "Epoch 55/100\n",
      "900/900 [==============================] - 2s 3ms/step - loss: 0.0555\n",
      "Epoch 56/100\n",
      "900/900 [==============================] - 3s 3ms/step - loss: 0.0553\n",
      "Epoch 57/100\n",
      "900/900 [==============================] - 2s 3ms/step - loss: 0.0561\n",
      "Epoch 58/100\n",
      "900/900 [==============================] - 2s 2ms/step - loss: 0.0550\n",
      "Epoch 59/100\n",
      "900/900 [==============================] - 2s 2ms/step - loss: 0.0532\n",
      "Epoch 60/100\n",
      "900/900 [==============================] - 2s 2ms/step - loss: 0.0539\n",
      "Epoch 61/100\n",
      "900/900 [==============================] - 2s 2ms/step - loss: 0.0555\n",
      "Epoch 62/100\n",
      "900/900 [==============================] - 2s 2ms/step - loss: 0.0527\n",
      "Epoch 63/100\n",
      "900/900 [==============================] - 2s 2ms/step - loss: 0.0545\n",
      "Epoch 64/100\n",
      "900/900 [==============================] - 2s 2ms/step - loss: 0.0524\n",
      "Epoch 65/100\n",
      "900/900 [==============================] - 2s 2ms/step - loss: 0.0530\n",
      "Epoch 66/100\n",
      "900/900 [==============================] - 2s 2ms/step - loss: 0.0519\n",
      "Epoch 67/100\n",
      "900/900 [==============================] - 2s 2ms/step - loss: 0.0547\n",
      "Epoch 68/100\n",
      "900/900 [==============================] - 2s 2ms/step - loss: 0.0538\n",
      "Epoch 69/100\n",
      "900/900 [==============================] - 2s 2ms/step - loss: 0.0522\n",
      "Epoch 70/100\n",
      "900/900 [==============================] - 2s 2ms/step - loss: 0.0516\n",
      "Epoch 71/100\n",
      "900/900 [==============================] - 2s 2ms/step - loss: 0.0515\n",
      "Epoch 72/100\n",
      "900/900 [==============================] - 2s 2ms/step - loss: 0.0520\n",
      "Epoch 73/100\n",
      "900/900 [==============================] - 2s 2ms/step - loss: 0.0528\n",
      "Epoch 74/100\n",
      "900/900 [==============================] - 2s 3ms/step - loss: 0.0513\n",
      "Epoch 75/100\n",
      "900/900 [==============================] - 2s 2ms/step - loss: 0.0506\n",
      "Epoch 76/100\n",
      "900/900 [==============================] - 2s 3ms/step - loss: 0.0499\n",
      "Epoch 77/100\n",
      "900/900 [==============================] - 2s 3ms/step - loss: 0.0509\n",
      "Epoch 78/100\n",
      "900/900 [==============================] - 2s 3ms/step - loss: 0.0513\n",
      "Epoch 79/100\n",
      "900/900 [==============================] - 2s 2ms/step - loss: 0.0498\n",
      "Epoch 80/100\n",
      "900/900 [==============================] - 2s 3ms/step - loss: 0.0501\n",
      "Epoch 81/100\n",
      "900/900 [==============================] - 2s 3ms/step - loss: 0.0501\n",
      "Epoch 82/100\n",
      "900/900 [==============================] - 2s 3ms/step - loss: 0.0501\n",
      "Epoch 83/100\n",
      "900/900 [==============================] - 3s 3ms/step - loss: 0.0505\n",
      "Epoch 84/100\n",
      "900/900 [==============================] - 3s 3ms/step - loss: 0.0502\n",
      "Epoch 85/100\n",
      "900/900 [==============================] - 3s 3ms/step - loss: 0.0486\n",
      "Epoch 86/100\n",
      "900/900 [==============================] - 2s 3ms/step - loss: 0.0501\n",
      "Epoch 87/100\n",
      "900/900 [==============================] - 3s 3ms/step - loss: 0.0487\n",
      "Epoch 88/100\n",
      "900/900 [==============================] - 2s 3ms/step - loss: 0.0496\n",
      "Epoch 89/100\n",
      "900/900 [==============================] - 2s 2ms/step - loss: 0.0493\n",
      "Epoch 90/100\n",
      "900/900 [==============================] - 2s 2ms/step - loss: 0.0492\n",
      "Epoch 91/100\n",
      "900/900 [==============================] - 2s 2ms/step - loss: 0.0484\n",
      "Epoch 92/100\n",
      "900/900 [==============================] - 2s 2ms/step - loss: 0.0484\n",
      "Epoch 93/100\n",
      "900/900 [==============================] - 2s 2ms/step - loss: 0.0497\n",
      "Epoch 94/100\n",
      "900/900 [==============================] - 2s 2ms/step - loss: 0.0474\n",
      "Epoch 95/100\n",
      "900/900 [==============================] - 2s 3ms/step - loss: 0.0480\n",
      "Epoch 96/100\n",
      "900/900 [==============================] - 3s 3ms/step - loss: 0.0485\n",
      "Epoch 97/100\n",
      "900/900 [==============================] - 2s 3ms/step - loss: 0.0473\n",
      "Epoch 98/100\n",
      "900/900 [==============================] - 2s 3ms/step - loss: 0.0474\n",
      "Epoch 99/100\n"
     ]
    },
    {
     "name": "stdout",
     "output_type": "stream",
     "text": [
      "900/900 [==============================] - 2s 3ms/step - loss: 0.0475\n",
      "Epoch 100/100\n",
      "900/900 [==============================] - 2s 2ms/step - loss: 0.0475\n",
      "fit cost time: 220.73 s\n"
     ]
    }
   ],
   "source": [
    "time_begin = time.time()\n",
    "history = model.fit(train_x, train_y, batch_size = batch_size, epochs=epoch_size, verbose=1)\n",
    "time_end = time.time()\n",
    "print(\"fit cost time: %.2f s\"%(time_end - time_begin))"
   ]
  },
  {
   "cell_type": "code",
   "execution_count": null,
   "metadata": {},
   "outputs": [],
   "source": [
    "history.history.get('loss')[-5:]"
   ]
  },
  {
   "cell_type": "code",
   "execution_count": null,
   "metadata": {},
   "outputs": [],
   "source": [
    "plt.plot(history.epoch, history.history.get('loss'))"
   ]
  },
  {
   "cell_type": "code",
   "execution_count": null,
   "metadata": {},
   "outputs": [],
   "source": [
    "test_x"
   ]
  },
  {
   "cell_type": "code",
   "execution_count": null,
   "metadata": {},
   "outputs": [],
   "source": [
    "result = model.predict(test_x, batch_size=36000)\n",
    "result = pd.DataFrame(result)\n",
    "result_y = pd.DataFrame(test_y)\n",
    "result = pd.concat([result,result_y],axis=1)\n",
    "result"
   ]
  },
  {
   "cell_type": "code",
   "execution_count": null,
   "metadata": {},
   "outputs": [],
   "source": [
    "test_y"
   ]
  },
  {
   "cell_type": "code",
   "execution_count": null,
   "metadata": {},
   "outputs": [],
   "source": [
    "evaluate_result = model.evaluate(test_x,test_y)\n",
    "print(evaluate_result)"
   ]
  },
  {
   "cell_type": "code",
   "execution_count": null,
   "metadata": {},
   "outputs": [],
   "source": [
    "\n"
   ]
  },
  {
   "cell_type": "code",
   "execution_count": null,
   "metadata": {},
   "outputs": [],
   "source": [
    "result_save = pd.DataFrame(result)\n",
    "result_save.to_csv(DIR_ROOT + \"/SandWaterLSTMTest.csv\")\n",
    "print(result_save[8630:8670])"
   ]
  },
  {
   "cell_type": "code",
   "execution_count": null,
   "metadata": {},
   "outputs": [],
   "source": []
  },
  {
   "cell_type": "code",
   "execution_count": null,
   "metadata": {},
   "outputs": [],
   "source": []
  },
  {
   "cell_type": "code",
   "execution_count": null,
   "metadata": {},
   "outputs": [],
   "source": []
  },
  {
   "cell_type": "code",
   "execution_count": null,
   "metadata": {},
   "outputs": [],
   "source": []
  }
 ],
 "metadata": {
  "kernelspec": {
   "display_name": "Python 3",
   "language": "python",
   "name": "python3"
  },
  "language_info": {
   "codemirror_mode": {
    "name": "ipython",
    "version": 3
   },
   "file_extension": ".py",
   "mimetype": "text/x-python",
   "name": "python",
   "nbconvert_exporter": "python",
   "pygments_lexer": "ipython3",
   "version": "3.8.3"
  }
 },
 "nbformat": 4,
 "nbformat_minor": 4
}
